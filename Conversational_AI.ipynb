{
  "nbformat": 4,
  "nbformat_minor": 0,
  "metadata": {
    "colab": {
      "name": "Conversational_AI.ipynb",
      "provenance": [],
      "include_colab_link": true
    },
    "kernelspec": {
      "name": "python3",
      "display_name": "Python 3"
    },
    "language_info": {
      "name": "python"
    }
  },
  "cells": [
    {
      "cell_type": "markdown",
      "metadata": {
        "id": "view-in-github",
        "colab_type": "text"
      },
      "source": [
        "<a href=\"https://colab.research.google.com/github/nsoma97/conv_ai/blob/main/Conversational_AI.ipynb\" target=\"_parent\"><img src=\"https://colab.research.google.com/assets/colab-badge.svg\" alt=\"Open In Colab\"/></a>"
      ]
    },
    {
      "cell_type": "markdown",
      "metadata": {
        "id": "MpD2GDZdkWwd"
      },
      "source": [
        "# Dependenciák telepítése"
      ]
    },
    {
      "cell_type": "code",
      "metadata": {
        "id": "19Z8HUcHdUye"
      },
      "source": [
        "# tensorflow warning-jai nagyon zavaróak, ezért kikapcsoljuk:\n",
        "%%sh\n",
        "export AUTOGRAPH_VERBOSITY=0"
      ],
      "execution_count": 1,
      "outputs": []
    },
    {
      "cell_type": "markdown",
      "metadata": {
        "id": "nVE8F2Ld7eix"
      },
      "source": [
        "**Dependenciák**\n",
        "* Rasa: nyílt forráskódú chatbot keretrendszer\n",
        "* nest_asyncio: szükségünk lesz arra, hogy aszinkron feladatokat indítsunk el a notebookban\n",
        "* https://github.com/oroszgy/spacy-hungarian-models - nem hivatalos magyar nyelvű Spacy modellek"
      ]
    },
    {
      "cell_type": "code",
      "metadata": {
        "id": "dQ4yaOHgNqxr",
        "colab": {
          "base_uri": "https://localhost:8080/",
          "height": 1000
        },
        "outputId": "547bffd0-a31a-4c1a-e951-c28a02d5a6b8"
      },
      "source": [
        "!pip install rasa==1.10.3\n",
        "!pip install nest_asyncio==1.3.3\n",
        "!pip install https://github.com/oroszgy/spacy-hungarian-models/releases/download/hu_core_ud_lg-0.3.1/hu_core_ud_lg-0.3.1-py3-none-any.whl  "
      ],
      "execution_count": 2,
      "outputs": [
        {
          "output_type": "stream",
          "text": [
            "Collecting rasa==1.10.3\n",
            "\u001b[?25l  Downloading https://files.pythonhosted.org/packages/83/b9/925b3d011b4e7940115946ff4dcc4adf21d9e038cd733ee01a45a345d993/rasa-1.10.3-py3-none-any.whl (510kB)\n",
            "\u001b[K     |████████████████████████████████| 512kB 18.6MB/s \n",
            "\u001b[?25hCollecting SQLAlchemy<1.4.0,>=1.3.3\n",
            "\u001b[?25l  Downloading https://files.pythonhosted.org/packages/31/44/a86070dda790ce94cd7d9fb9281cd614c7d30850ed774ace9a84d0d5d491/SQLAlchemy-1.3.24-cp37-cp37m-manylinux2010_x86_64.whl (1.3MB)\n",
            "\u001b[K     |████████████████████████████████| 1.3MB 43.3MB/s \n",
            "\u001b[?25hCollecting fbmessenger<6.1.0,>=6.0.0\n",
            "  Downloading https://files.pythonhosted.org/packages/bd/e9/646684226176782b9e3b7dd5b35d7ecfd1d13cba24ad2e33255079921aab/fbmessenger-6.0.0-py2.py3-none-any.whl\n",
            "Collecting jsonpickle<1.5,>=1.3\n",
            "  Downloading https://files.pythonhosted.org/packages/ee/d5/1cc282dc23346a43aab461bf2e8c36593aacd34242bee1a13fa750db0cfe/jsonpickle-1.4.2-py2.py3-none-any.whl\n",
            "Collecting colorclass<2.3,>=2.2\n",
            "  Downloading https://files.pythonhosted.org/packages/37/ea/ae8dbb956939d4392e6a7fdef87fda273854da1128edae016c4104240be8/colorclass-2.2.0.tar.gz\n",
            "Requirement already satisfied: scikit-learn<0.23,>=0.22 in /usr/local/lib/python3.7/dist-packages (from rasa==1.10.3) (0.22.2.post1)\n",
            "Collecting pytz<2020.0,>=2019.1\n",
            "\u001b[?25l  Downloading https://files.pythonhosted.org/packages/e7/f9/f0b53f88060247251bf481fa6ea62cd0d25bf1b11a87888e53ce5b7c8ad2/pytz-2019.3-py2.py3-none-any.whl (509kB)\n",
            "\u001b[K     |████████████████████████████████| 512kB 44.9MB/s \n",
            "\u001b[?25hCollecting ujson<3.0,>=1.35\n",
            "\u001b[?25l  Downloading https://files.pythonhosted.org/packages/90/da/be6a03bfa6346803cd2549d82af02ac485bfabf666caec52bf6be5cf9f3e/ujson-2.0.3-cp37-cp37m-manylinux1_x86_64.whl (174kB)\n",
            "\u001b[K     |████████████████████████████████| 184kB 36.7MB/s \n",
            "\u001b[?25hCollecting questionary<1.6.0,>=1.5.1\n",
            "  Downloading https://files.pythonhosted.org/packages/05/7d/61b7d0da15bb50e7239c870771320026447b7e2d9490ee96f49dddd3ef0d/questionary-1.5.2-py3-none-any.whl\n",
            "Collecting redis<4.0,>=3.4\n",
            "\u001b[?25l  Downloading https://files.pythonhosted.org/packages/a7/7c/24fb0511df653cf1a5d938d8f5d19802a88cef255706fdda242ff97e91b7/redis-3.5.3-py2.py3-none-any.whl (72kB)\n",
            "\u001b[K     |████████████████████████████████| 81kB 8.4MB/s \n",
            "\u001b[?25hCollecting attrs<19.4,>=19.3\n",
            "  Downloading https://files.pythonhosted.org/packages/a2/db/4313ab3be961f7a763066401fb77f7748373b6094076ae2bda2806988af6/attrs-19.3.0-py2.py3-none-any.whl\n",
            "Collecting pydot<1.5,>=1.4\n",
            "  Downloading https://files.pythonhosted.org/packages/ea/76/75b1bb82e9bad3e3d656556eaa353d8cd17c4254393b08ec9786ac8ed273/pydot-1.4.2-py2.py3-none-any.whl\n",
            "Collecting tensorflow<2.2,>=2.1\n",
            "\u001b[?25l  Downloading https://files.pythonhosted.org/packages/c2/09/c1a9d3a3ebc995b4dc787e206f8bb97291710e8d9f8c66acf6075fbab622/tensorflow-2.1.3-cp37-cp37m-manylinux2010_x86_64.whl (421.9MB)\n",
            "\u001b[K     |████████████████████████████████| 421.9MB 23kB/s \n",
            "\u001b[?25hCollecting ruamel.yaml<0.17,>=0.16\n",
            "\u001b[?25l  Downloading https://files.pythonhosted.org/packages/ed/c3/4c823dac2949a6baf36a4987d04c50d30184147393ba6f4bfb4c67d15a13/ruamel.yaml-0.16.13-py2.py3-none-any.whl (111kB)\n",
            "\u001b[K     |████████████████████████████████| 112kB 49.9MB/s \n",
            "\u001b[?25hCollecting kafka-python<2.0,>=1.4\n",
            "\u001b[?25l  Downloading https://files.pythonhosted.org/packages/49/c9/9863483a1353700ba87821b4f39085eb18fd1bcbb1e954c697177d67f03f/kafka_python-1.4.7-py2.py3-none-any.whl (266kB)\n",
            "\u001b[K     |████████████████████████████████| 266kB 48.5MB/s \n",
            "\u001b[?25hCollecting pymongo[srv,tls]<3.9.0,>=3.8.0\n",
            "\u001b[?25l  Downloading https://files.pythonhosted.org/packages/ee/f9/c748aa7807dafcc5eade282db46e16242b15dfe951da10ff434fd22ca282/pymongo-3.8.0-cp37-cp37m-manylinux1_x86_64.whl (417kB)\n",
            "\u001b[K     |████████████████████████████████| 419kB 44.6MB/s \n",
            "\u001b[?25hCollecting rasa-sdk<2.0.0,>=1.10.0\n",
            "  Downloading https://files.pythonhosted.org/packages/a9/ae/6c143f2815d1bc3f363dbd0afb7a29cbd65dd19c5f04afb79f1a114ebe9a/rasa_sdk-1.10.3-py3-none-any.whl\n",
            "Collecting tensorflow-probability<0.10,>=0.7\n",
            "\u001b[?25l  Downloading https://files.pythonhosted.org/packages/9b/ed/f587d64127bbb85e539f06a2aace1240b7b5c6b4267bea94f232230551a5/tensorflow_probability-0.9.0-py2.py3-none-any.whl (3.2MB)\n",
            "\u001b[K     |████████████████████████████████| 3.2MB 24.8MB/s \n",
            "\u001b[?25hCollecting pika<1.2.0,>=1.1.0\n",
            "\u001b[?25l  Downloading https://files.pythonhosted.org/packages/a1/ae/8bedf0e9f1c0c5d046db3a7428a4227fe36ec1b8e25607f3c38ac9bf513c/pika-1.1.0-py2.py3-none-any.whl (148kB)\n",
            "\u001b[K     |████████████████████████████████| 153kB 51.4MB/s \n",
            "\u001b[?25hRequirement already satisfied: packaging<21.0,>=20.0 in /usr/local/lib/python3.7/dist-packages (from rasa==1.10.3) (20.9)\n",
            "Collecting networkx<2.5.0,>=2.4.0\n",
            "\u001b[?25l  Downloading https://files.pythonhosted.org/packages/41/8f/dd6a8e85946def36e4f2c69c84219af0fa5e832b018c970e92f2ad337e45/networkx-2.4-py3-none-any.whl (1.6MB)\n",
            "\u001b[K     |████████████████████████████████| 1.6MB 39.6MB/s \n",
            "\u001b[?25hRequirement already satisfied: async_generator<1.11,>=1.10 in /usr/local/lib/python3.7/dist-packages (from rasa==1.10.3) (1.10)\n",
            "Collecting colorhash<1.1.0,>=1.0.2\n",
            "  Downloading https://files.pythonhosted.org/packages/ce/73/e867cd41ab0c15b26f89b0382527e525a2bee8f80ef7ac619fbe16f6ece6/colorhash-1.0.3-py3-none-any.whl\n",
            "Collecting sklearn-crfsuite<0.4,>=0.3\n",
            "  Downloading https://files.pythonhosted.org/packages/25/74/5b7befa513482e6dee1f3dd68171a6c9dfc14c0eaa00f885ffeba54fe9b0/sklearn_crfsuite-0.3.6-py2.py3-none-any.whl\n",
            "Collecting tensorflow-estimator==2.1.0\n",
            "\u001b[?25l  Downloading https://files.pythonhosted.org/packages/18/90/b77c328a1304437ab1310b463e533fa7689f4bfc41549593056d812fab8e/tensorflow_estimator-2.1.0-py2.py3-none-any.whl (448kB)\n",
            "\u001b[K     |████████████████████████████████| 450kB 48.0MB/s \n",
            "\u001b[?25hCollecting sanic-jwt<1.5.0,>=1.3.2\n",
            "  Downloading https://files.pythonhosted.org/packages/ed/ca/61b5c31074890ae62cfd00edc940450a9575d46371a92974301595b18edf/sanic-jwt-1.4.1.tar.gz\n",
            "Collecting webexteamssdk<1.4.0,>=1.1.1\n",
            "\u001b[?25l  Downloading https://files.pythonhosted.org/packages/0e/99/0e5d4ed08d14853ddf9e076beee5f8e524d22dc0fca06ef08bf952c683d7/webexteamssdk-1.3.tar.gz (56kB)\n",
            "\u001b[K     |████████████████████████████████| 61kB 6.2MB/s \n",
            "\u001b[?25hCollecting rocketchat_API<1.4.0,>=0.6.31\n",
            "  Downloading https://files.pythonhosted.org/packages/42/12/055da56d3eb5012bb02c806ad4f3549d910147a10dee7ce4b89ccf23f388/rocketchat_API-1.3.1-py3-none-any.whl\n",
            "Requirement already satisfied: setuptools>=41.0.0 in /usr/local/lib/python3.7/dist-packages (from rasa==1.10.3) (56.0.0)\n",
            "Collecting boto3<2.0,>=1.12\n",
            "\u001b[?25l  Downloading https://files.pythonhosted.org/packages/9b/e5/96f7156e6ebf7ab992471479c3c55f0be2f31360fcdcac21aa6f782c036a/boto3-1.17.57-py2.py3-none-any.whl (131kB)\n",
            "\u001b[K     |████████████████████████████████| 133kB 50.5MB/s \n",
            "\u001b[?25hRequirement already satisfied: oauth2client==4.1.3 in /usr/local/lib/python3.7/dist-packages (from rasa==1.10.3) (4.1.3)\n",
            "Requirement already satisfied: python-dateutil<2.9,>=2.8 in /usr/local/lib/python3.7/dist-packages (from rasa==1.10.3) (2.8.1)\n",
            "Requirement already satisfied: cloudpickle<1.4,>=1.2 in /usr/local/lib/python3.7/dist-packages (from rasa==1.10.3) (1.3.0)\n",
            "Collecting python-telegram-bot<13.0,>=11.1\n",
            "\u001b[?25l  Downloading https://files.pythonhosted.org/packages/a6/2d/c72fc9a28144277f6170f2fcbfd3bd9427943497522b2689846596eb86cf/python_telegram_bot-12.8-py2.py3-none-any.whl (375kB)\n",
            "\u001b[K     |████████████████████████████████| 378kB 48.0MB/s \n",
            "\u001b[?25hCollecting tensorflow_hub<0.9,>=0.7\n",
            "\u001b[?25l  Downloading https://files.pythonhosted.org/packages/fb/9d/d5772f94e31431cdb56a8bb2c34d8839bb7d7621f2a5959f4ef43207d7ac/tensorflow_hub-0.8.0-py2.py3-none-any.whl (101kB)\n",
            "\u001b[K     |████████████████████████████████| 102kB 10.3MB/s \n",
            "\u001b[?25hCollecting multidict<5.0,>=4.6\n",
            "\u001b[?25l  Downloading https://files.pythonhosted.org/packages/85/b8/a9fe777dab4c6aa067b516a34fe995213707e490ea1e72f823949a830a6a/multidict-4.7.6-cp37-cp37m-manylinux1_x86_64.whl (149kB)\n",
            "\u001b[K     |████████████████████████████████| 153kB 39.7MB/s \n",
            "\u001b[?25hCollecting apscheduler<3.7,>=3.6\n",
            "\u001b[?25l  Downloading https://files.pythonhosted.org/packages/f3/34/9ef20ed473c4fd2c3df54ef77a27ae3fc7500b16b192add4720cab8b2c09/APScheduler-3.6.3-py2.py3-none-any.whl (58kB)\n",
            "\u001b[K     |████████████████████████████████| 61kB 6.4MB/s \n",
            "\u001b[?25hCollecting terminaltables<3.2.0,>=3.1.0\n",
            "  Downloading https://files.pythonhosted.org/packages/9b/c4/4a21174f32f8a7e1104798c445dacdc1d4df86f2f26722767034e4de4bff/terminaltables-3.1.0.tar.gz\n",
            "Collecting coloredlogs<11.0,>=10.0\n",
            "\u001b[?25l  Downloading https://files.pythonhosted.org/packages/08/0f/7877fc42fff0b9d70b6442df62d53b3868d3a6ad1b876bdb54335b30ff23/coloredlogs-10.0-py2.py3-none-any.whl (47kB)\n",
            "\u001b[K     |████████████████████████████████| 51kB 5.6MB/s \n",
            "\u001b[?25hCollecting sanic-cors<0.11.0,>=0.10.0b1\n",
            "  Downloading https://files.pythonhosted.org/packages/2d/33/5e1776669aa62dd9c65e3513425077915acb1758d6b19f08f830f27ce9a8/Sanic_Cors-0.10.0.post3-py2.py3-none-any.whl\n",
            "Collecting prompt-toolkit<3.0,>=2.0\n",
            "\u001b[?25l  Downloading https://files.pythonhosted.org/packages/87/61/2dfea88583d5454e3a64f9308a686071d58d59a55db638268a6413e1eb6d/prompt_toolkit-2.0.10-py3-none-any.whl (340kB)\n",
            "\u001b[K     |████████████████████████████████| 348kB 39.9MB/s \n",
            "\u001b[?25hCollecting mattermostwrapper<2.3,>=2.2\n",
            "  Downloading https://files.pythonhosted.org/packages/d7/fd/f1ce046ddaeffa5073f87d7800c27ad2c8e543e924a8418675c64aea6a14/mattermostwrapper-2.2.tar.gz\n",
            "Collecting pykwalify<1.8.0,>=1.7.0\n",
            "\u001b[?25l  Downloading https://files.pythonhosted.org/packages/36/9f/612de8ca540bd24d604f544248c4c46e9db76f6ea5eb75fb4244da6ebbf0/pykwalify-1.7.0-py2.py3-none-any.whl (40kB)\n",
            "\u001b[K     |████████████████████████████████| 40kB 4.9MB/s \n",
            "\u001b[?25hCollecting python-engineio<3.13,>=3.11\n",
            "\u001b[?25l  Downloading https://files.pythonhosted.org/packages/6c/aa/c975982df73c4bcd087732db14b05306e8a3f3f24596cc18647746539290/python_engineio-3.12.1-py2.py3-none-any.whl (49kB)\n",
            "\u001b[K     |████████████████████████████████| 51kB 5.8MB/s \n",
            "\u001b[?25hCollecting slackclient<3.0.0,>=2.0.0\n",
            "\u001b[?25l  Downloading https://files.pythonhosted.org/packages/ed/27/de9ce989d0964518152e1a164b08971c77a173b051a153e50220f1a963d9/slackclient-2.9.3-py2.py3-none-any.whl (96kB)\n",
            "\u001b[K     |████████████████████████████████| 102kB 9.9MB/s \n",
            "\u001b[?25hCollecting psycopg2-binary<2.9.0,>=2.8.2\n",
            "\u001b[?25l  Downloading https://files.pythonhosted.org/packages/6d/45/c519a5cfac05e14b1ccb242138915855293199840598e087b935ba1d86bc/psycopg2_binary-2.8.6-cp37-cp37m-manylinux1_x86_64.whl (3.0MB)\n",
            "\u001b[K     |████████████████████████████████| 3.0MB 37.3MB/s \n",
            "\u001b[?25hCollecting python-socketio<4.6,>=4.4\n",
            "\u001b[?25l  Downloading https://files.pythonhosted.org/packages/10/cb/631c0b713daea3938e66d4c0923e88f3c0b57b026f860ea76e0337bc9c7a/python_socketio-4.5.1-py2.py3-none-any.whl (51kB)\n",
            "\u001b[K     |████████████████████████████████| 61kB 7.7MB/s \n",
            "\u001b[?25hRequirement already satisfied: requests<3.0,>=2.23 in /usr/local/lib/python3.7/dist-packages (from rasa==1.10.3) (2.23.0)\n",
            "Requirement already satisfied: matplotlib<3.3,>=3.1 in /usr/local/lib/python3.7/dist-packages (from rasa==1.10.3) (3.2.2)\n",
            "Collecting PyJWT<1.8,>=1.7\n",
            "  Downloading https://files.pythonhosted.org/packages/87/8b/6a9f14b5f781697e51259d81657e6048fd31a113229cf346880bb7545565/PyJWT-1.7.1-py2.py3-none-any.whl\n",
            "Requirement already satisfied: numpy<2.0,>=1.16 in /usr/local/lib/python3.7/dist-packages (from rasa==1.10.3) (1.19.5)\n",
            "Collecting tensorflow-addons<0.8.0,>=0.7.1\n",
            "\u001b[?25l  Downloading https://files.pythonhosted.org/packages/7e/c0/ce4a4551adfbf66939bda5394fc4b828d8463f32fade18ad9e8995268cc2/tensorflow_addons-0.7.1-cp37-cp37m-manylinux2010_x86_64.whl (990kB)\n",
            "\u001b[K     |████████████████████████████████| 993kB 33.4MB/s \n",
            "\u001b[?25hCollecting twilio<6.27,>=6.26\n",
            "\u001b[?25l  Downloading https://files.pythonhosted.org/packages/23/e6/630676e9749be27879957dcac080dbafa2a8bf2cf47db3f7247862dd6277/twilio-6.26.3-py2.py3-none-any.whl (979kB)\n",
            "\u001b[K     |████████████████████████████████| 983kB 44.5MB/s \n",
            "\u001b[?25hCollecting absl-py<0.10,>=0.9\n",
            "\u001b[?25l  Downloading https://files.pythonhosted.org/packages/1a/53/9243c600e047bd4c3df9e69cfabc1e8004a82cac2e0c484580a78a94ba2a/absl-py-0.9.0.tar.gz (104kB)\n",
            "\u001b[K     |████████████████████████████████| 112kB 52.5MB/s \n",
            "\u001b[?25hCollecting aiohttp<3.7,>=3.6\n",
            "\u001b[?25l  Downloading https://files.pythonhosted.org/packages/12/a2/ca3ba17c50ebeb3e7473330d8d1ce08fb83506a9bc985bcc0716354d2018/aiohttp-3.6.3-cp37-cp37m-manylinux1_x86_64.whl (1.2MB)\n",
            "\u001b[K     |████████████████████████████████| 1.2MB 34.5MB/s \n",
            "\u001b[?25hCollecting sanic<20.0.0,>=19.12.2\n",
            "\u001b[?25l  Downloading https://files.pythonhosted.org/packages/45/62/02562dd4afe1b8a5f3f97517308a4628a6d0b56517970d538250a91bba5d/sanic-19.12.5-py3-none-any.whl (73kB)\n",
            "\u001b[K     |████████████████████████████████| 81kB 9.2MB/s \n",
            "\u001b[?25hRequirement already satisfied: scipy<2.0.0,>=1.4.1 in /usr/local/lib/python3.7/dist-packages (from rasa==1.10.3) (1.4.1)\n",
            "Requirement already satisfied: tqdm<4.46,>=4.31 in /usr/local/lib/python3.7/dist-packages (from rasa==1.10.3) (4.41.1)\n",
            "Collecting gevent<1.6,>=1.4\n",
            "\u001b[?25l  Downloading https://files.pythonhosted.org/packages/c4/41/4740e0b8c4b20dbc7beeba8d3f5c4f16a3b3afd01cfadad02bd7ca86f2ea/gevent-1.5.0-cp37-cp37m-manylinux2010_x86_64.whl (5.1MB)\n",
            "\u001b[K     |████████████████████████████████| 5.1MB 39.9MB/s \n",
            "\u001b[?25hCollecting jsonschema<3.3,>=3.2\n",
            "\u001b[?25l  Downloading https://files.pythonhosted.org/packages/c5/8f/51e89ce52a085483359217bc72cdbf6e75ee595d5b1d4b5ade40c7e018b8/jsonschema-3.2.0-py2.py3-none-any.whl (56kB)\n",
            "\u001b[K     |████████████████████████████████| 61kB 6.6MB/s \n",
            "\u001b[?25hRequirement already satisfied: importlib-metadata; python_version < \"3.8\" in /usr/local/lib/python3.7/dist-packages (from jsonpickle<1.5,>=1.3->rasa==1.10.3) (3.10.1)\n",
            "Requirement already satisfied: joblib>=0.11 in /usr/local/lib/python3.7/dist-packages (from scikit-learn<0.23,>=0.22->rasa==1.10.3) (1.0.1)\n",
            "Requirement already satisfied: pyparsing>=2.1.4 in /usr/local/lib/python3.7/dist-packages (from pydot<1.5,>=1.4->rasa==1.10.3) (2.4.7)\n",
            "Requirement already satisfied: astor>=0.6.0 in /usr/local/lib/python3.7/dist-packages (from tensorflow<2.2,>=2.1->rasa==1.10.3) (0.8.1)\n",
            "Collecting gast==0.2.2\n",
            "  Downloading https://files.pythonhosted.org/packages/4e/35/11749bf99b2d4e3cceb4d55ca22590b0d7c2c62b9de38ac4a4a7f4687421/gast-0.2.2.tar.gz\n",
            "Collecting keras-applications>=1.0.8\n",
            "\u001b[?25l  Downloading https://files.pythonhosted.org/packages/71/e3/19762fdfc62877ae9102edf6342d71b28fbfd9dea3d2f96a882ce099b03f/Keras_Applications-1.0.8-py3-none-any.whl (50kB)\n",
            "\u001b[K     |████████████████████████████████| 51kB 6.3MB/s \n",
            "\u001b[?25hRequirement already satisfied: protobuf>=3.8.0 in /usr/local/lib/python3.7/dist-packages (from tensorflow<2.2,>=2.1->rasa==1.10.3) (3.12.4)\n",
            "Requirement already satisfied: wrapt>=1.11.1 in /usr/local/lib/python3.7/dist-packages (from tensorflow<2.2,>=2.1->rasa==1.10.3) (1.12.1)\n",
            "Collecting keras-preprocessing==1.1.0\n",
            "\u001b[?25l  Downloading https://files.pythonhosted.org/packages/28/6a/8c1f62c37212d9fc441a7e26736df51ce6f0e38455816445471f10da4f0a/Keras_Preprocessing-1.1.0-py2.py3-none-any.whl (41kB)\n",
            "\u001b[K     |████████████████████████████████| 51kB 5.8MB/s \n",
            "\u001b[?25hRequirement already satisfied: termcolor>=1.1.0 in /usr/local/lib/python3.7/dist-packages (from tensorflow<2.2,>=2.1->rasa==1.10.3) (1.1.0)\n",
            "Requirement already satisfied: six>=1.12.0 in /usr/local/lib/python3.7/dist-packages (from tensorflow<2.2,>=2.1->rasa==1.10.3) (1.15.0)\n",
            "Requirement already satisfied: h5py<=2.10.0 in /usr/local/lib/python3.7/dist-packages (from tensorflow<2.2,>=2.1->rasa==1.10.3) (2.10.0)\n",
            "Requirement already satisfied: grpcio>=1.8.6 in /usr/local/lib/python3.7/dist-packages (from tensorflow<2.2,>=2.1->rasa==1.10.3) (1.32.0)\n",
            "Requirement already satisfied: opt-einsum>=2.3.2 in /usr/local/lib/python3.7/dist-packages (from tensorflow<2.2,>=2.1->rasa==1.10.3) (3.3.0)\n",
            "Requirement already satisfied: wheel>=0.26; python_version >= \"3\" in /usr/local/lib/python3.7/dist-packages (from tensorflow<2.2,>=2.1->rasa==1.10.3) (0.36.2)\n",
            "Collecting tensorboard<2.2.0,>=2.1.0\n",
            "\u001b[?25l  Downloading https://files.pythonhosted.org/packages/d9/41/bbf49b61370e4f4d245d4c6051dfb6db80cec672605c91b1652ac8cc3d38/tensorboard-2.1.1-py3-none-any.whl (3.8MB)\n",
            "\u001b[K     |████████████████████████████████| 3.9MB 39.2MB/s \n",
            "\u001b[?25hRequirement already satisfied: google-pasta>=0.1.6 in /usr/local/lib/python3.7/dist-packages (from tensorflow<2.2,>=2.1->rasa==1.10.3) (0.2.0)\n",
            "Collecting ruamel.yaml.clib>=0.1.2; platform_python_implementation == \"CPython\" and python_version < \"3.10\"\n",
            "\u001b[?25l  Downloading https://files.pythonhosted.org/packages/5e/6e/f652c56bbb2c3d3fca252ffc7c0358597f57a1bbdf484dac683054950c63/ruamel.yaml.clib-0.2.2-cp37-cp37m-manylinux1_x86_64.whl (547kB)\n",
            "\u001b[K     |████████████████████████████████| 552kB 42.9MB/s \n",
            "\u001b[?25hCollecting dnspython<2.0.0,>=1.13.0; extra == \"srv\"\n",
            "\u001b[?25l  Downloading https://files.pythonhosted.org/packages/ec/d3/3aa0e7213ef72b8585747aa0e271a9523e713813b9a20177ebe1e939deb0/dnspython-1.16.0-py2.py3-none-any.whl (188kB)\n",
            "\u001b[K     |████████████████████████████████| 194kB 57.4MB/s \n",
            "\u001b[?25hRequirement already satisfied: decorator in /usr/local/lib/python3.7/dist-packages (from tensorflow-probability<0.10,>=0.7->rasa==1.10.3) (4.4.2)\n",
            "Collecting python-crfsuite>=0.8.3\n",
            "\u001b[?25l  Downloading https://files.pythonhosted.org/packages/79/47/58f16c46506139f17de4630dbcfb877ce41a6355a1bbf3c443edb9708429/python_crfsuite-0.9.7-cp37-cp37m-manylinux1_x86_64.whl (743kB)\n",
            "\u001b[K     |████████████████████████████████| 747kB 40.7MB/s \n",
            "\u001b[?25hRequirement already satisfied: tabulate in /usr/local/lib/python3.7/dist-packages (from sklearn-crfsuite<0.4,>=0.3->rasa==1.10.3) (0.8.9)\n",
            "Requirement already satisfied: future in /usr/local/lib/python3.7/dist-packages (from webexteamssdk<1.4.0,>=1.1.1->rasa==1.10.3) (0.16.0)\n",
            "Collecting requests-toolbelt\n",
            "\u001b[?25l  Downloading https://files.pythonhosted.org/packages/60/ef/7681134338fc097acef8d9b2f8abe0458e4d87559c689a8c306d0957ece5/requests_toolbelt-0.9.1-py2.py3-none-any.whl (54kB)\n",
            "\u001b[K     |████████████████████████████████| 61kB 6.8MB/s \n",
            "\u001b[?25hCollecting s3transfer<0.5.0,>=0.4.0\n",
            "\u001b[?25l  Downloading https://files.pythonhosted.org/packages/63/d0/693477c688348654ddc21dcdce0817653a294aa43f41771084c25e7ff9c7/s3transfer-0.4.2-py2.py3-none-any.whl (79kB)\n",
            "\u001b[K     |████████████████████████████████| 81kB 8.6MB/s \n",
            "\u001b[?25hCollecting jmespath<1.0.0,>=0.7.1\n",
            "  Downloading https://files.pythonhosted.org/packages/07/cb/5f001272b6faeb23c1c9e0acc04d48eaaf5c862c17709d20e3469c6e0139/jmespath-0.10.0-py2.py3-none-any.whl\n",
            "Collecting botocore<1.21.0,>=1.20.57\n",
            "\u001b[?25l  Downloading https://files.pythonhosted.org/packages/94/52/aa266c9594e279799ded419caac56365796ce686b97762b9c8620b2ba988/botocore-1.20.57-py2.py3-none-any.whl (7.4MB)\n",
            "\u001b[K     |████████████████████████████████| 7.4MB 53.0MB/s \n",
            "\u001b[?25hRequirement already satisfied: httplib2>=0.9.1 in /usr/local/lib/python3.7/dist-packages (from oauth2client==4.1.3->rasa==1.10.3) (0.17.4)\n",
            "Requirement already satisfied: pyasn1>=0.1.7 in /usr/local/lib/python3.7/dist-packages (from oauth2client==4.1.3->rasa==1.10.3) (0.4.8)\n",
            "Requirement already satisfied: pyasn1-modules>=0.0.5 in /usr/local/lib/python3.7/dist-packages (from oauth2client==4.1.3->rasa==1.10.3) (0.2.8)\n",
            "Requirement already satisfied: rsa>=3.1.4 in /usr/local/lib/python3.7/dist-packages (from oauth2client==4.1.3->rasa==1.10.3) (4.7.2)\n",
            "Collecting cryptography\n",
            "\u001b[?25l  Downloading https://files.pythonhosted.org/packages/b2/26/7af637e6a7e87258b963f1731c5982fb31cd507f0d90d91836e446955d02/cryptography-3.4.7-cp36-abi3-manylinux2014_x86_64.whl (3.2MB)\n",
            "\u001b[K     |████████████████████████████████| 3.2MB 44.6MB/s \n",
            "\u001b[?25hRequirement already satisfied: certifi in /usr/local/lib/python3.7/dist-packages (from python-telegram-bot<13.0,>=11.1->rasa==1.10.3) (2020.12.5)\n",
            "Requirement already satisfied: tornado>=5.1 in /usr/local/lib/python3.7/dist-packages (from python-telegram-bot<13.0,>=11.1->rasa==1.10.3) (5.1.1)\n",
            "Requirement already satisfied: tzlocal>=1.2 in /usr/local/lib/python3.7/dist-packages (from apscheduler<3.7,>=3.6->rasa==1.10.3) (1.5.1)\n",
            "Collecting humanfriendly>=4.7\n",
            "\u001b[?25l  Downloading https://files.pythonhosted.org/packages/93/66/363d01a81da2108a5cf446daf619779f06d49a0c4426dd02b40734f10e2f/humanfriendly-9.1-py2.py3-none-any.whl (86kB)\n",
            "\u001b[K     |████████████████████████████████| 92kB 9.9MB/s \n",
            "\u001b[?25hCollecting sanic-plugins-framework>=0.9.0\n",
            "  Downloading https://files.pythonhosted.org/packages/06/19/b8770ed083f405d00235080d697ad59adbfe92195e32cc649bbe0af5ab20/Sanic_Plugins_Framework-0.9.5-py2.py3-none-any.whl\n",
            "Requirement already satisfied: wcwidth in /usr/local/lib/python3.7/dist-packages (from prompt-toolkit<3.0,>=2.0->rasa==1.10.3) (0.2.5)\n",
            "Requirement already satisfied: docopt>=0.6.2 in /usr/local/lib/python3.7/dist-packages (from pykwalify<1.8.0,>=1.7.0->rasa==1.10.3) (0.6.2)\n",
            "Requirement already satisfied: PyYAML>=3.11 in /usr/local/lib/python3.7/dist-packages (from pykwalify<1.8.0,>=1.7.0->rasa==1.10.3) (3.13)\n",
            "Requirement already satisfied: idna<3,>=2.5 in /usr/local/lib/python3.7/dist-packages (from requests<3.0,>=2.23->rasa==1.10.3) (2.10)\n",
            "Requirement already satisfied: urllib3!=1.25.0,!=1.25.1,<1.26,>=1.21.1 in /usr/local/lib/python3.7/dist-packages (from requests<3.0,>=2.23->rasa==1.10.3) (1.24.3)\n",
            "Requirement already satisfied: chardet<4,>=3.0.2 in /usr/local/lib/python3.7/dist-packages (from requests<3.0,>=2.23->rasa==1.10.3) (3.0.4)\n",
            "Requirement already satisfied: cycler>=0.10 in /usr/local/lib/python3.7/dist-packages (from matplotlib<3.3,>=3.1->rasa==1.10.3) (0.10.0)\n",
            "Requirement already satisfied: kiwisolver>=1.0.1 in /usr/local/lib/python3.7/dist-packages (from matplotlib<3.3,>=3.1->rasa==1.10.3) (1.3.1)\n",
            "Requirement already satisfied: pysocks; python_version >= \"3.0\" in /usr/local/lib/python3.7/dist-packages (from twilio<6.27,>=6.26->rasa==1.10.3) (1.7.1)\n",
            "Collecting yarl<1.6.0,>=1.0\n",
            "\u001b[?25l  Downloading https://files.pythonhosted.org/packages/5b/1c/556b99a3a11916e05cd2128367f507dc330fc30ed1f5991e1ffe4dabf635/yarl-1.5.1-cp37-cp37m-manylinux1_x86_64.whl (258kB)\n",
            "\u001b[K     |████████████████████████████████| 266kB 57.4MB/s \n",
            "\u001b[?25hCollecting async-timeout<4.0,>=3.0\n",
            "  Downloading https://files.pythonhosted.org/packages/e1/1e/5a4441be21b0726c4464f3f23c8b19628372f606755a9d2e46c187e65ec4/async_timeout-3.0.1-py3-none-any.whl\n",
            "Collecting httptools>=0.0.10\n",
            "\u001b[?25l  Downloading https://files.pythonhosted.org/packages/4c/87/ebb92639705924aac5ed6aa91bd4332b20d7180f3e94bd168742e7671025/httptools-0.2.0-cp37-cp37m-manylinux1_x86_64.whl (344kB)\n",
            "\u001b[K     |████████████████████████████████| 348kB 58.2MB/s \n",
            "\u001b[?25hCollecting websockets<9.0,>=7.0\n",
            "\u001b[?25l  Downloading https://files.pythonhosted.org/packages/5a/0b/3ebc752392a368af14dd24ee041683416ac6d2463eead94b311b11e41c82/websockets-8.1-cp37-cp37m-manylinux2010_x86_64.whl (79kB)\n",
            "\u001b[K     |████████████████████████████████| 81kB 7.9MB/s \n",
            "\u001b[?25hCollecting uvloop<0.15.0,>=0.5.3; sys_platform != \"win32\" and implementation_name == \"cpython\"\n",
            "\u001b[?25l  Downloading https://files.pythonhosted.org/packages/9b/7a/54a80c03b555af21680a2f3692947b43a0d576d90c4c18cace0fee1ccc0e/uvloop-0.14.0-cp37-cp37m-manylinux2010_x86_64.whl (3.8MB)\n",
            "\u001b[K     |████████████████████████████████| 3.8MB 39.4MB/s \n",
            "\u001b[?25hCollecting aiofiles>=0.3.0\n",
            "  Downloading https://files.pythonhosted.org/packages/ba/21/df5eae4b6db2eb00d58428dd7f793ecbf99942fcafcea141cbf108fa72f4/aiofiles-0.6.0-py3-none-any.whl\n",
            "Collecting httpx==0.9.3\n",
            "\u001b[?25l  Downloading https://files.pythonhosted.org/packages/d5/17/3f1ec0593b38c82069e745c849114267e980c9fb1254a27ab50f72040251/httpx-0.9.3-py2.py3-none-any.whl (64kB)\n",
            "\u001b[K     |████████████████████████████████| 71kB 8.7MB/s \n",
            "\u001b[?25hRequirement already satisfied: greenlet>=0.4.14; platform_python_implementation == \"CPython\" in /usr/local/lib/python3.7/dist-packages (from gevent<1.6,>=1.4->rasa==1.10.3) (1.0.0)\n",
            "Requirement already satisfied: pyrsistent>=0.14.0 in /usr/local/lib/python3.7/dist-packages (from jsonschema<3.3,>=3.2->rasa==1.10.3) (0.17.3)\n",
            "Requirement already satisfied: typing-extensions>=3.6.4; python_version < \"3.8\" in /usr/local/lib/python3.7/dist-packages (from importlib-metadata; python_version < \"3.8\"->jsonpickle<1.5,>=1.3->rasa==1.10.3) (3.7.4.3)\n",
            "Requirement already satisfied: zipp>=0.5 in /usr/local/lib/python3.7/dist-packages (from importlib-metadata; python_version < \"3.8\"->jsonpickle<1.5,>=1.3->rasa==1.10.3) (3.4.1)\n",
            "Requirement already satisfied: google-auth-oauthlib<0.5,>=0.4.1 in /usr/local/lib/python3.7/dist-packages (from tensorboard<2.2.0,>=2.1.0->tensorflow<2.2,>=2.1->rasa==1.10.3) (0.4.4)\n",
            "Requirement already satisfied: werkzeug>=0.11.15 in /usr/local/lib/python3.7/dist-packages (from tensorboard<2.2.0,>=2.1.0->tensorflow<2.2,>=2.1->rasa==1.10.3) (1.0.1)\n",
            "Requirement already satisfied: markdown>=2.6.8 in /usr/local/lib/python3.7/dist-packages (from tensorboard<2.2.0,>=2.1.0->tensorflow<2.2,>=2.1->rasa==1.10.3) (3.3.4)\n",
            "Requirement already satisfied: google-auth<2,>=1.6.3 in /usr/local/lib/python3.7/dist-packages (from tensorboard<2.2.0,>=2.1.0->tensorflow<2.2,>=2.1->rasa==1.10.3) (1.28.1)\n",
            "Requirement already satisfied: cffi>=1.12 in /usr/local/lib/python3.7/dist-packages (from cryptography->python-telegram-bot<13.0,>=11.1->rasa==1.10.3) (1.14.5)\n",
            "Collecting h11==0.8.*\n",
            "\u001b[?25l  Downloading https://files.pythonhosted.org/packages/f9/f3/8e4cf5fa1a3d8bda942a0b1cf92f87815494216fd439f82eb99073141ba0/h11-0.8.1-py2.py3-none-any.whl (55kB)\n",
            "\u001b[K     |████████████████████████████████| 61kB 7.1MB/s \n",
            "\u001b[?25hCollecting hstspreload\n",
            "\u001b[?25l  Downloading https://files.pythonhosted.org/packages/dd/50/606213e12fb49c5eb667df0936223dcaf461f94e215ea60244b2b1e9b039/hstspreload-2020.12.22-py3-none-any.whl (994kB)\n",
            "\u001b[K     |████████████████████████████████| 1.0MB 56.0MB/s \n",
            "\u001b[?25hCollecting rfc3986<2,>=1.3\n",
            "  Downloading https://files.pythonhosted.org/packages/78/be/7b8b99fd74ff5684225f50dd0e865393d2265656ef3b4ba9eaaaffe622b8/rfc3986-1.4.0-py2.py3-none-any.whl\n",
            "Collecting h2==3.*\n",
            "\u001b[?25l  Downloading https://files.pythonhosted.org/packages/25/de/da019bcc539eeab02f6d45836f23858ac467f584bfec7a526ef200242afe/h2-3.2.0-py2.py3-none-any.whl (65kB)\n",
            "\u001b[K     |████████████████████████████████| 71kB 8.2MB/s \n",
            "\u001b[?25hCollecting sniffio==1.*\n",
            "  Downloading https://files.pythonhosted.org/packages/52/b0/7b2e028b63d092804b6794595871f936aafa5e9322dcaaad50ebf67445b3/sniffio-1.2.0-py3-none-any.whl\n",
            "Requirement already satisfied: requests-oauthlib>=0.7.0 in /usr/local/lib/python3.7/dist-packages (from google-auth-oauthlib<0.5,>=0.4.1->tensorboard<2.2.0,>=2.1.0->tensorflow<2.2,>=2.1->rasa==1.10.3) (1.3.0)\n",
            "Requirement already satisfied: cachetools<5.0,>=2.0.0 in /usr/local/lib/python3.7/dist-packages (from google-auth<2,>=1.6.3->tensorboard<2.2.0,>=2.1.0->tensorflow<2.2,>=2.1->rasa==1.10.3) (4.2.1)\n",
            "Requirement already satisfied: pycparser in /usr/local/lib/python3.7/dist-packages (from cffi>=1.12->cryptography->python-telegram-bot<13.0,>=11.1->rasa==1.10.3) (2.20)\n",
            "Collecting hpack<4,>=3.0\n",
            "  Downloading https://files.pythonhosted.org/packages/8a/cc/e53517f4a1e13f74776ca93271caef378dadec14d71c61c949d759d3db69/hpack-3.0.0-py2.py3-none-any.whl\n",
            "Collecting hyperframe<6,>=5.2.0\n",
            "  Downloading https://files.pythonhosted.org/packages/19/0c/bf88182bcb5dce3094e2f3e4fe20db28a9928cb7bd5b08024030e4b140db/hyperframe-5.2.0-py2.py3-none-any.whl\n",
            "Requirement already satisfied: oauthlib>=3.0.0 in /usr/local/lib/python3.7/dist-packages (from requests-oauthlib>=0.7.0->google-auth-oauthlib<0.5,>=0.4.1->tensorboard<2.2.0,>=2.1.0->tensorflow<2.2,>=2.1->rasa==1.10.3) (3.1.0)\n",
            "Building wheels for collected packages: colorclass, sanic-jwt, webexteamssdk, terminaltables, mattermostwrapper, absl-py, gast\n",
            "  Building wheel for colorclass (setup.py) ... \u001b[?25l\u001b[?25hdone\n",
            "  Created wheel for colorclass: filename=colorclass-2.2.0-cp37-none-any.whl size=19396 sha256=da8ae78de1df4b349ccc70e1a7dcce921d8233ea9fc38be5fec7570e8b1ebea6\n",
            "  Stored in directory: /root/.cache/pip/wheels/d1/86/9d/16127127306a92d7fd30267890a5634026c045391979c4c317\n",
            "  Building wheel for sanic-jwt (setup.py) ... \u001b[?25l\u001b[?25hdone\n",
            "  Created wheel for sanic-jwt: filename=sanic_jwt-1.4.1-cp37-none-any.whl size=21614 sha256=7663cfae52d879e297e7db2caa7fed902b0841ab1f02f6dfce90ceee4769b5bb\n",
            "  Stored in directory: /root/.cache/pip/wheels/4d/f7/9b/a6ff52d9805d0bca73082fb43a2dd46283138d83fd453a62fb\n",
            "  Building wheel for webexteamssdk (setup.py) ... \u001b[?25l\u001b[?25hdone\n",
            "  Created wheel for webexteamssdk: filename=webexteamssdk-1.3-cp37-none-any.whl size=99584 sha256=3449e5bcc4c0f81be966e35e86f5661cba5f3b380d4241c8d22292e97a4937d5\n",
            "  Stored in directory: /root/.cache/pip/wheels/67/0c/40/a86821ed5e4ff74c9b031cb4504f2e929752573c452cd2a1d8\n",
            "  Building wheel for terminaltables (setup.py) ... \u001b[?25l\u001b[?25hdone\n",
            "  Created wheel for terminaltables: filename=terminaltables-3.1.0-cp37-none-any.whl size=15356 sha256=b461045cc4b6f68a749fbbefa88f0b9a2c6ee101448027b1a768f5cf5c01bd9d\n",
            "  Stored in directory: /root/.cache/pip/wheels/30/6b/50/6c75775b681fb36cdfac7f19799888ef9d8813aff9e379663e\n",
            "  Building wheel for mattermostwrapper (setup.py) ... \u001b[?25l\u001b[?25hdone\n",
            "  Created wheel for mattermostwrapper: filename=mattermostwrapper-2.2-cp37-none-any.whl size=2467 sha256=bdcd075499583599cec52ccc3f9fc63e48a81fa714d1e5fb57c517b531c6bb3c\n",
            "  Stored in directory: /root/.cache/pip/wheels/c5/47/19/47188b3036316651250c4f7df23d59a3b524c82921bfb6daa3\n",
            "  Building wheel for absl-py (setup.py) ... \u001b[?25l\u001b[?25hdone\n",
            "  Created wheel for absl-py: filename=absl_py-0.9.0-cp37-none-any.whl size=121931 sha256=e908eefb39814d1df10c3bdccbf07ca31390d6b3466efa38a044efe612a7b909\n",
            "  Stored in directory: /root/.cache/pip/wheels/8e/28/49/fad4e7f0b9a1227708cbbee4487ac8558a7334849cb81c813d\n",
            "  Building wheel for gast (setup.py) ... \u001b[?25l\u001b[?25hdone\n",
            "  Created wheel for gast: filename=gast-0.2.2-cp37-none-any.whl size=7540 sha256=b63480d08761b30b065d5c7a75c32a0b993dc247f71f30e627310f95db8c5dc0\n",
            "  Stored in directory: /root/.cache/pip/wheels/5c/2e/7e/a1d4d4fcebe6c381f378ce7743a3ced3699feb89bcfbdadadd\n",
            "Successfully built colorclass sanic-jwt webexteamssdk terminaltables mattermostwrapper absl-py gast\n",
            "\u001b[31mERROR: tensorflow 2.1.3 has requirement numpy<1.19.0,>=1.16.0, but you'll have numpy 1.19.5 which is incompatible.\u001b[0m\n",
            "\u001b[31mERROR: nbclient 0.5.3 has requirement jupyter-client>=6.1.5, but you'll have jupyter-client 5.3.5 which is incompatible.\u001b[0m\n",
            "\u001b[31mERROR: jupyter-console 5.2.0 has requirement prompt-toolkit<2.0.0,>=1.0.0, but you'll have prompt-toolkit 2.0.10 which is incompatible.\u001b[0m\n",
            "\u001b[31mERROR: ipython 5.5.0 has requirement prompt-toolkit<2.0.0,>=1.0.4, but you'll have prompt-toolkit 2.0.10 which is incompatible.\u001b[0m\n",
            "\u001b[31mERROR: datascience 0.10.6 has requirement folium==0.2.1, but you'll have folium 0.8.3 which is incompatible.\u001b[0m\n",
            "\u001b[31mERROR: albumentations 0.1.12 has requirement imgaug<0.2.7,>=0.2.5, but you'll have imgaug 0.2.9 which is incompatible.\u001b[0m\n",
            "\u001b[31mERROR: sanic 19.12.5 has requirement multidict==5.0.0, but you'll have multidict 4.7.6 which is incompatible.\u001b[0m\n",
            "\u001b[31mERROR: botocore 1.20.57 has requirement urllib3<1.27,>=1.25.4, but you'll have urllib3 1.24.3 which is incompatible.\u001b[0m\n",
            "Installing collected packages: SQLAlchemy, fbmessenger, jsonpickle, colorclass, pytz, ujson, prompt-toolkit, questionary, redis, attrs, pydot, absl-py, gast, keras-applications, keras-preprocessing, tensorflow-estimator, tensorboard, tensorflow, ruamel.yaml.clib, ruamel.yaml, kafka-python, dnspython, pymongo, httptools, websockets, uvloop, aiofiles, multidict, h11, hstspreload, rfc3986, hpack, hyperframe, h2, sniffio, httpx, sanic, sanic-plugins-framework, sanic-cors, humanfriendly, coloredlogs, rasa-sdk, tensorflow-probability, pika, networkx, colorhash, python-crfsuite, sklearn-crfsuite, PyJWT, sanic-jwt, requests-toolbelt, webexteamssdk, rocketchat-API, jmespath, botocore, s3transfer, boto3, cryptography, python-telegram-bot, tensorflow-hub, apscheduler, terminaltables, mattermostwrapper, pykwalify, python-engineio, yarl, async-timeout, aiohttp, slackclient, psycopg2-binary, python-socketio, tensorflow-addons, twilio, gevent, jsonschema, rasa\n",
            "  Found existing installation: SQLAlchemy 1.4.7\n",
            "    Uninstalling SQLAlchemy-1.4.7:\n",
            "      Successfully uninstalled SQLAlchemy-1.4.7\n",
            "  Found existing installation: pytz 2018.9\n",
            "    Uninstalling pytz-2018.9:\n",
            "      Successfully uninstalled pytz-2018.9\n",
            "  Found existing installation: prompt-toolkit 1.0.18\n",
            "    Uninstalling prompt-toolkit-1.0.18:\n",
            "      Successfully uninstalled prompt-toolkit-1.0.18\n",
            "  Found existing installation: attrs 20.3.0\n",
            "    Uninstalling attrs-20.3.0:\n",
            "      Successfully uninstalled attrs-20.3.0\n",
            "  Found existing installation: pydot 1.3.0\n",
            "    Uninstalling pydot-1.3.0:\n",
            "      Successfully uninstalled pydot-1.3.0\n",
            "  Found existing installation: absl-py 0.12.0\n",
            "    Uninstalling absl-py-0.12.0:\n",
            "      Successfully uninstalled absl-py-0.12.0\n",
            "  Found existing installation: gast 0.3.3\n",
            "    Uninstalling gast-0.3.3:\n",
            "      Successfully uninstalled gast-0.3.3\n",
            "  Found existing installation: Keras-Preprocessing 1.1.2\n",
            "    Uninstalling Keras-Preprocessing-1.1.2:\n",
            "      Successfully uninstalled Keras-Preprocessing-1.1.2\n",
            "  Found existing installation: tensorflow-estimator 2.4.0\n",
            "    Uninstalling tensorflow-estimator-2.4.0:\n",
            "      Successfully uninstalled tensorflow-estimator-2.4.0\n",
            "  Found existing installation: tensorboard 2.4.1\n",
            "    Uninstalling tensorboard-2.4.1:\n",
            "      Successfully uninstalled tensorboard-2.4.1\n",
            "  Found existing installation: tensorflow 2.4.1\n",
            "    Uninstalling tensorflow-2.4.1:\n",
            "      Successfully uninstalled tensorflow-2.4.1\n",
            "  Found existing installation: pymongo 3.11.3\n",
            "    Uninstalling pymongo-3.11.3:\n",
            "      Successfully uninstalled pymongo-3.11.3\n",
            "  Found existing installation: tensorflow-probability 0.12.1\n",
            "    Uninstalling tensorflow-probability-0.12.1:\n",
            "      Successfully uninstalled tensorflow-probability-0.12.1\n",
            "  Found existing installation: networkx 2.5.1\n",
            "    Uninstalling networkx-2.5.1:\n",
            "      Successfully uninstalled networkx-2.5.1\n",
            "  Found existing installation: tensorflow-hub 0.12.0\n",
            "    Uninstalling tensorflow-hub-0.12.0:\n",
            "      Successfully uninstalled tensorflow-hub-0.12.0\n",
            "  Found existing installation: jsonschema 2.6.0\n",
            "    Uninstalling jsonschema-2.6.0:\n",
            "      Successfully uninstalled jsonschema-2.6.0\n",
            "Successfully installed PyJWT-1.7.1 SQLAlchemy-1.3.24 absl-py-0.9.0 aiofiles-0.6.0 aiohttp-3.6.3 apscheduler-3.6.3 async-timeout-3.0.1 attrs-19.3.0 boto3-1.17.57 botocore-1.20.57 colorclass-2.2.0 coloredlogs-10.0 colorhash-1.0.3 cryptography-3.4.7 dnspython-1.16.0 fbmessenger-6.0.0 gast-0.2.2 gevent-1.5.0 h11-0.8.1 h2-3.2.0 hpack-3.0.0 hstspreload-2020.12.22 httptools-0.2.0 httpx-0.9.3 humanfriendly-9.1 hyperframe-5.2.0 jmespath-0.10.0 jsonpickle-1.4.2 jsonschema-3.2.0 kafka-python-1.4.7 keras-applications-1.0.8 keras-preprocessing-1.1.0 mattermostwrapper-2.2 multidict-4.7.6 networkx-2.4 pika-1.1.0 prompt-toolkit-2.0.10 psycopg2-binary-2.8.6 pydot-1.4.2 pykwalify-1.7.0 pymongo-3.8.0 python-crfsuite-0.9.7 python-engineio-3.12.1 python-socketio-4.5.1 python-telegram-bot-12.8 pytz-2019.3 questionary-1.5.2 rasa-1.10.3 rasa-sdk-1.10.3 redis-3.5.3 requests-toolbelt-0.9.1 rfc3986-1.4.0 rocketchat-API-1.3.1 ruamel.yaml-0.16.13 ruamel.yaml.clib-0.2.2 s3transfer-0.4.2 sanic-19.12.5 sanic-cors-0.10.0.post3 sanic-jwt-1.4.1 sanic-plugins-framework-0.9.5 sklearn-crfsuite-0.3.6 slackclient-2.9.3 sniffio-1.2.0 tensorboard-2.1.1 tensorflow-2.1.3 tensorflow-addons-0.7.1 tensorflow-estimator-2.1.0 tensorflow-hub-0.8.0 tensorflow-probability-0.9.0 terminaltables-3.1.0 twilio-6.26.3 ujson-2.0.3 uvloop-0.14.0 webexteamssdk-1.3 websockets-8.1 yarl-1.5.1\n"
          ],
          "name": "stdout"
        },
        {
          "output_type": "display_data",
          "data": {
            "application/vnd.colab-display-data+json": {
              "pip_warning": {
                "packages": [
                  "prompt_toolkit",
                  "pytz"
                ]
              }
            }
          },
          "metadata": {
            "tags": []
          }
        },
        {
          "output_type": "stream",
          "text": [
            "Collecting nest_asyncio==1.3.3\n",
            "  Downloading https://files.pythonhosted.org/packages/74/b4/b24e0a271fb78990c2c62238321686454824b1357ce7abcf20f431fd903d/nest_asyncio-1.3.3-py3-none-any.whl\n",
            "\u001b[31mERROR: nbclient 0.5.3 has requirement jupyter-client>=6.1.5, but you'll have jupyter-client 5.3.5 which is incompatible.\u001b[0m\n",
            "Installing collected packages: nest-asyncio\n",
            "  Found existing installation: nest-asyncio 1.5.1\n",
            "    Uninstalling nest-asyncio-1.5.1:\n",
            "      Successfully uninstalled nest-asyncio-1.5.1\n",
            "Successfully installed nest-asyncio-1.3.3\n",
            "Collecting hu-core-ud-lg==0.3.1\n",
            "\u001b[?25l  Downloading https://github.com/oroszgy/spacy-hungarian-models/releases/download/hu_core_ud_lg-0.3.1/hu_core_ud_lg-0.3.1-py3-none-any.whl (1334.8MB)\n",
            "\u001b[K     |████████████████████            | 834.1MB 1.2MB/s eta 0:06:58tcmalloc: large alloc 1147494400 bytes == 0x5582e9cd2000 @  0x7f0b4ae53615 0x5582afb9506c 0x5582afc74eba 0x5582afb97e8d 0x5582afc8999d 0x5582afc0bfe9 0x5582afc06b0e 0x5582afb9977a 0x5582afc0be50 0x5582afc06b0e 0x5582afb9977a 0x5582afc0886a 0x5582afc8a7c6 0x5582afc07ee2 0x5582afc8a7c6 0x5582afc07ee2 0x5582afc8a7c6 0x5582afc07ee2 0x5582afc8a7c6 0x5582afd0c431 0x5582afc6d049 0x5582afbd7c84 0x5582afb988e9 0x5582afc0cade 0x5582afb9969a 0x5582afc07a45 0x5582afc06e0d 0x5582afb9977a 0x5582afc07a45 0x5582afb9969a 0x5582afc07a45\n",
            "\u001b[K     |█████████████████████████▎      | 1055.7MB 1.4MB/s eta 0:03:19tcmalloc: large alloc 1434370048 bytes == 0x55832e328000 @  0x7f0b4ae53615 0x5582afb9506c 0x5582afc74eba 0x5582afb97e8d 0x5582afc8999d 0x5582afc0bfe9 0x5582afc06b0e 0x5582afb9977a 0x5582afc0be50 0x5582afc06b0e 0x5582afb9977a 0x5582afc0886a 0x5582afc8a7c6 0x5582afc07ee2 0x5582afc8a7c6 0x5582afc07ee2 0x5582afc8a7c6 0x5582afc07ee2 0x5582afc8a7c6 0x5582afd0c431 0x5582afc6d049 0x5582afbd7c84 0x5582afb988e9 0x5582afc0cade 0x5582afb9969a 0x5582afc07a45 0x5582afc06e0d 0x5582afb9977a 0x5582afc07a45 0x5582afb9969a 0x5582afc07a45\n",
            "\u001b[K     |████████████████████████████████| 1334.7MB 1.1MB/s eta 0:00:01tcmalloc: large alloc 1668448256 bytes == 0x558383b14000 @  0x7f0b4ae53615 0x5582afb9506c 0x5582afc74eba 0x5582afb97e8d 0x5582afc8999d 0x5582afc0bfe9 0x5582afc06b0e 0x5582afb9977a 0x5582afc07c9e 0x5582afc06b0e 0x5582afb9977a 0x5582afc07c9e 0x5582afc06b0e 0x5582afb9977a 0x5582afc07c9e 0x5582afc06b0e 0x5582afb9977a 0x5582afc07c9e 0x5582afc06b0e 0x5582afb9977a 0x5582afc07c9e 0x5582afb9969a 0x5582afc07c9e 0x5582afc06b0e 0x5582afb9977a 0x5582afc0886a 0x5582afc06b0e 0x5582afb9977a 0x5582afc0886a 0x5582afc06b0e 0x5582afb99e11\n",
            "\u001b[K     |████████████████████████████████| 1334.8MB 12kB/s \n",
            "\u001b[?25hCollecting lemmy==0.1\n",
            "\u001b[?25l  Downloading https://files.pythonhosted.org/packages/f0/bb/c2c485fa2459cbb824344479af3037d1bddf5a278599f5f5c12f4da59577/lemmy-0.1.0-py2.py3-none-any.whl (244kB)\n",
            "\u001b[K     |████████████████████████████████| 245kB 5.2MB/s \n",
            "\u001b[?25hRequirement already satisfied: spacy<3.0.0,>=2.1.0 in /usr/local/lib/python3.7/dist-packages (from hu-core-ud-lg==0.3.1) (2.2.4)\n",
            "Requirement already satisfied: plac<1.2.0,>=0.9.6 in /usr/local/lib/python3.7/dist-packages (from spacy<3.0.0,>=2.1.0->hu-core-ud-lg==0.3.1) (1.1.3)\n",
            "Requirement already satisfied: tqdm<5.0.0,>=4.38.0 in /usr/local/lib/python3.7/dist-packages (from spacy<3.0.0,>=2.1.0->hu-core-ud-lg==0.3.1) (4.41.1)\n",
            "Requirement already satisfied: thinc==7.4.0 in /usr/local/lib/python3.7/dist-packages (from spacy<3.0.0,>=2.1.0->hu-core-ud-lg==0.3.1) (7.4.0)\n",
            "Requirement already satisfied: numpy>=1.15.0 in /usr/local/lib/python3.7/dist-packages (from spacy<3.0.0,>=2.1.0->hu-core-ud-lg==0.3.1) (1.19.5)\n",
            "Requirement already satisfied: murmurhash<1.1.0,>=0.28.0 in /usr/local/lib/python3.7/dist-packages (from spacy<3.0.0,>=2.1.0->hu-core-ud-lg==0.3.1) (1.0.5)\n",
            "Requirement already satisfied: wasabi<1.1.0,>=0.4.0 in /usr/local/lib/python3.7/dist-packages (from spacy<3.0.0,>=2.1.0->hu-core-ud-lg==0.3.1) (0.8.2)\n",
            "Requirement already satisfied: catalogue<1.1.0,>=0.0.7 in /usr/local/lib/python3.7/dist-packages (from spacy<3.0.0,>=2.1.0->hu-core-ud-lg==0.3.1) (1.0.0)\n",
            "Requirement already satisfied: srsly<1.1.0,>=1.0.2 in /usr/local/lib/python3.7/dist-packages (from spacy<3.0.0,>=2.1.0->hu-core-ud-lg==0.3.1) (1.0.5)\n",
            "Requirement already satisfied: setuptools in /usr/local/lib/python3.7/dist-packages (from spacy<3.0.0,>=2.1.0->hu-core-ud-lg==0.3.1) (56.0.0)\n",
            "Requirement already satisfied: blis<0.5.0,>=0.4.0 in /usr/local/lib/python3.7/dist-packages (from spacy<3.0.0,>=2.1.0->hu-core-ud-lg==0.3.1) (0.4.1)\n",
            "Requirement already satisfied: cymem<2.1.0,>=2.0.2 in /usr/local/lib/python3.7/dist-packages (from spacy<3.0.0,>=2.1.0->hu-core-ud-lg==0.3.1) (2.0.5)\n",
            "Requirement already satisfied: preshed<3.1.0,>=3.0.2 in /usr/local/lib/python3.7/dist-packages (from spacy<3.0.0,>=2.1.0->hu-core-ud-lg==0.3.1) (3.0.5)\n",
            "Requirement already satisfied: requests<3.0.0,>=2.13.0 in /usr/local/lib/python3.7/dist-packages (from spacy<3.0.0,>=2.1.0->hu-core-ud-lg==0.3.1) (2.23.0)\n",
            "Requirement already satisfied: importlib-metadata>=0.20; python_version < \"3.8\" in /usr/local/lib/python3.7/dist-packages (from catalogue<1.1.0,>=0.0.7->spacy<3.0.0,>=2.1.0->hu-core-ud-lg==0.3.1) (3.10.1)\n",
            "Requirement already satisfied: idna<3,>=2.5 in /usr/local/lib/python3.7/dist-packages (from requests<3.0.0,>=2.13.0->spacy<3.0.0,>=2.1.0->hu-core-ud-lg==0.3.1) (2.10)\n",
            "Requirement already satisfied: certifi>=2017.4.17 in /usr/local/lib/python3.7/dist-packages (from requests<3.0.0,>=2.13.0->spacy<3.0.0,>=2.1.0->hu-core-ud-lg==0.3.1) (2020.12.5)\n",
            "Requirement already satisfied: urllib3!=1.25.0,!=1.25.1,<1.26,>=1.21.1 in /usr/local/lib/python3.7/dist-packages (from requests<3.0.0,>=2.13.0->spacy<3.0.0,>=2.1.0->hu-core-ud-lg==0.3.1) (1.24.3)\n",
            "Requirement already satisfied: chardet<4,>=3.0.2 in /usr/local/lib/python3.7/dist-packages (from requests<3.0.0,>=2.13.0->spacy<3.0.0,>=2.1.0->hu-core-ud-lg==0.3.1) (3.0.4)\n",
            "Requirement already satisfied: typing-extensions>=3.6.4; python_version < \"3.8\" in /usr/local/lib/python3.7/dist-packages (from importlib-metadata>=0.20; python_version < \"3.8\"->catalogue<1.1.0,>=0.0.7->spacy<3.0.0,>=2.1.0->hu-core-ud-lg==0.3.1) (3.7.4.3)\n",
            "Requirement already satisfied: zipp>=0.5 in /usr/local/lib/python3.7/dist-packages (from importlib-metadata>=0.20; python_version < \"3.8\"->catalogue<1.1.0,>=0.0.7->spacy<3.0.0,>=2.1.0->hu-core-ud-lg==0.3.1) (3.4.1)\n",
            "Installing collected packages: lemmy, hu-core-ud-lg\n",
            "Successfully installed hu-core-ud-lg-0.3.1 lemmy-0.1.0\n"
          ],
          "name": "stdout"
        }
      ]
    },
    {
      "cell_type": "markdown",
      "metadata": {
        "id": "9icOT-Hm-ppQ"
      },
      "source": [
        "Linkeljük a letöltött magyar Spacy modelleket a `hu` kulcsszóhoz, ezután már Spacy-ből is közvetlenül használhatjuk majd."
      ]
    },
    {
      "cell_type": "code",
      "metadata": {
        "id": "KFDEa4p0DT9b",
        "colab": {
          "base_uri": "https://localhost:8080/"
        },
        "outputId": "9e73f341-88c1-4753-eb0d-360032134a22"
      },
      "source": [
        "!python3 -m spacy link hu_core_ud_lg hu"
      ],
      "execution_count": 3,
      "outputs": [
        {
          "output_type": "stream",
          "text": [
            "\u001b[38;5;2m✔ Linking successful\u001b[0m\n",
            "/usr/local/lib/python3.7/dist-packages/hu_core_ud_lg -->\n",
            "/usr/local/lib/python3.7/dist-packages/spacy/data/hu\n",
            "You can now load the model via spacy.load('hu')\n"
          ],
          "name": "stdout"
        }
      ]
    },
    {
      "cell_type": "markdown",
      "metadata": {
        "id": "Ru4a2HVRC4iw"
      },
      "source": [
        "# Rasa demo chatbot\n",
        "\n",
        "Hozzunk létre egy üres demo chatbotot a `create_initial_project` paranccsal. Ez létrehoz egy egyszerű projektet, amiben néhány intent már definiálva van. Ezzel a chatbottal már beszélgethetünk is akár."
      ]
    },
    {
      "cell_type": "code",
      "metadata": {
        "id": "0LUukJOsNrlr"
      },
      "source": [
        "import os\n",
        "import rasa\n",
        "import tensorflow as _\n",
        "from rasa.cli.scaffold import create_initial_project\n",
        "from rasa.jupyter import chat\n",
        "import nest_asyncio\n",
        "import warnings\n",
        "\n",
        "warnings.filterwarnings(\"ignore\")\n",
        "nest_asyncio.apply()"
      ],
      "execution_count": 4,
      "outputs": []
    },
    {
      "cell_type": "code",
      "metadata": {
        "id": "ZVmDdGb2PALr"
      },
      "source": [
        "project = \"test-chatbot\"\n",
        "create_initial_project(project) # hozzunk létre egy demo chatbotot\n",
        "\n",
        "os.chdir(project)"
      ],
      "execution_count": 5,
      "outputs": []
    },
    {
      "cell_type": "code",
      "metadata": {
        "id": "CHIsbCiSPNuz",
        "colab": {
          "base_uri": "https://localhost:8080/"
        },
        "outputId": "5f8c98a2-69b0-4fa9-9bcf-1f6d368b5f53"
      },
      "source": [
        "%ls"
      ],
      "execution_count": 6,
      "outputs": [
        {
          "output_type": "stream",
          "text": [
            "actions.py  credentials.yml  domain.yml     __init__.py   \u001b[0m\u001b[01;34mtests\u001b[0m/\n",
            "config.yml  \u001b[01;34mdata\u001b[0m/            endpoints.yml  \u001b[01;34m__pycache__\u001b[0m/\n"
          ],
          "name": "stdout"
        }
      ]
    },
    {
      "cell_type": "markdown",
      "metadata": {
        "id": "6wJ4VrlcEMtD"
      },
      "source": [
        "* **domain.yml**: definiálja az 'univerzumot', melyben a chatbotunk működik. Itt soroljuk fel, hogy milyen felhasználói szándékokat kezelünk, mik az entitásaink, megadhatjuk a lehetséges válaszokat, slotokat, stb...\n",
        "* **config.yml**: itt határozzuk meg a chatbot által használt NLU pipeline-t, azaz hogy pontosan milyen NLP modulokat alkalmazunk a felhasználó által megaadott bemeneti szövegre\n",
        "* **actions.py**: itt implementálható egyedi üzleti logika, adatbázis lekérdezés, API hívások megvalósítása, stb.\n",
        "* **credentials.yml** és **endpoints.yml**: beállítható külső integráció (Slack, Facebook, stb.) a chatbothoz, az elérési pontok megadása\n",
        "* **tests/**: ebben a mappában teszteseteket írhatunk a chatbot működésének kiértékelésére\n",
        "\n",
        "* **data/**: itt található a tanítóadatunk\n",
        "  - **nlu.md**: intentekhez sorolt, entitásokkal annotált tanítómondatok, ebből tanul az NLU model (Rasa NLU)\n",
        "  - **stories.md**: itt olyan 'sztorikat' írunk le absztrakt formában, amelyek a felhasználóval lejátszódhatnak, ebből tanul a dialógusmodell (Rasa Core)\n"
      ]
    },
    {
      "cell_type": "code",
      "metadata": {
        "id": "hSqVdIRUMFV1"
      },
      "source": [
        "def training_with_retry(domain, config, training_files, output):\n",
        "  \"\"\"\n",
        "  Colab-on valami megmagyarázhatatlan okból az első két training elszáll...\n",
        "  \"\"\"\n",
        "  model_path = None\n",
        "  for i in range(3):\n",
        "    if model_path:\n",
        "      break\n",
        "\n",
        "    try:\n",
        "      model_path = rasa.train(domain, config, [training_files], output)\n",
        "    except Exception as e:\n",
        "      print(f'{i+1}. kísérlet sikertelen.')\n",
        "\n",
        "  if model_path:\n",
        "    return model_path\n",
        "  else:\n",
        "    raise Exception('Model training failed...')"
      ],
      "execution_count": 7,
      "outputs": []
    },
    {
      "cell_type": "markdown",
      "metadata": {
        "id": "u_YOE5A38IsO"
      },
      "source": [
        "A `rasa.train` parancs hatására a Rasa két dolgot végez el:\n",
        "\n",
        "\n",
        "* **Core model/dialógusmodell tanulása**: beolvassa a `stories.md` fájlból a sztorikat, `config.yml`-ben megadott stratégiák szerint megtanulja, hogy milyen felhasználói szándékra hogyan kell reagálnia majd a beszélgetések során\n",
        "* **NLU model tanulása**: megtanulja, hogy az egyes felhasználói inputokat hogyan dolgozza fel, az `nlu.md`-ben megadott tanulómondatok alapján megtanulja, hogy milyen bemenet milyen intentet jelent, milyen entitásokat tartalmaz...\n",
        "\n"
      ]
    },
    {
      "cell_type": "code",
      "metadata": {
        "id": "ArsmbOLfAdMr",
        "colab": {
          "base_uri": "https://localhost:8080/"
        },
        "outputId": "3994eb3f-f74a-4cec-8b35-4e988fa28e4b"
      },
      "source": [
        "%rm -r models/"
      ],
      "execution_count": 8,
      "outputs": [
        {
          "output_type": "stream",
          "text": [
            "rm: cannot remove 'models/': No such file or directory\n"
          ],
          "name": "stdout"
        }
      ]
    },
    {
      "cell_type": "code",
      "metadata": {
        "id": "yIWbNfewPmhc",
        "colab": {
          "base_uri": "https://localhost:8080/"
        },
        "outputId": "476d2f91-d84e-4b6a-df71-afe2f84a233a"
      },
      "source": [
        "config = \"config.yml\"\n",
        "training_files = \"data/\"\n",
        "domain = \"domain.yml\"\n",
        "output = \"models/\"\n",
        "\n",
        "\n",
        "model_path = training_with_retry(domain, config, training_files, output)\n",
        "print(model_path)"
      ],
      "execution_count": 9,
      "outputs": [
        {
          "output_type": "stream",
          "text": [
            "\u001b[94mTraining Core model...\u001b[0m\n",
            "1. kísérlet sikertelen.\n",
            "\u001b[94mTraining Core model...\u001b[0m\n",
            "2. kísérlet sikertelen.\n",
            "\u001b[94mTraining Core model...\u001b[0m\n"
          ],
          "name": "stdout"
        },
        {
          "output_type": "stream",
          "text": [
            "Processed Story Blocks: 100%|██████████| 5/5 [00:00<00:00, 264.98it/s, # trackers=1]\n",
            "Processed Story Blocks: 100%|██████████| 5/5 [00:00<00:00, 379.43it/s, # trackers=5]\n",
            "Processed Story Blocks: 100%|██████████| 5/5 [00:00<00:00, 165.17it/s, # trackers=20]\n",
            "Processed Story Blocks: 100%|██████████| 5/5 [00:00<00:00, 129.29it/s, # trackers=24]\n",
            "Processed trackers: 100%|██████████| 5/5 [00:00<00:00, 118.70it/s, # actions=16]\n",
            "Processed actions: 16it [00:00, 676.93it/s, # examples=16]\n",
            "Processed trackers: 100%|██████████| 231/231 [00:07<00:00, 30.76it/s, # actions=126]\n",
            "Epochs: 100%|██████████| 100/100 [00:15<00:00,  6.37it/s, t_loss=0.078, loss=0.008, acc=1.000]\n"
          ],
          "name": "stderr"
        },
        {
          "output_type": "stream",
          "text": [
            "\u001b[94mCore model training completed.\u001b[0m\n",
            "\u001b[94mTraining NLU model...\u001b[0m\n"
          ],
          "name": "stdout"
        },
        {
          "output_type": "stream",
          "text": [
            "Epochs: 100%|██████████| 100/100 [00:17<00:00,  5.76it/s, t_loss=1.633, i_loss=0.255, i_acc=1.000]\n"
          ],
          "name": "stderr"
        },
        {
          "output_type": "stream",
          "text": [
            "\u001b[94mNLU model training completed.\u001b[0m\n",
            "\u001b[92mYour Rasa model is trained and saved at '/content/test-chatbot/models/20210425-160552.tar.gz'.\u001b[0m\n",
            "models/20210425-160552.tar.gz\n"
          ],
          "name": "stdout"
        }
      ]
    },
    {
      "cell_type": "markdown",
      "metadata": {
        "id": "Yt2LbHp09aKZ"
      },
      "source": [
        "A `chat` paranccsal beszélgethetünk a chatbottal. A `/stop` parancs terminálja a beszélgetést. <br>\n",
        "A demo chatbot kevés dologra képes, alaphelyzetben a hangulatunkról érdeklődik, illetve képes reagálni az azzal kapcsolatos vádakra, hogy ő valójában nem is ember, hanem egy robot.\n",
        "<br><br>\n",
        "(*tipp*: ha eláruljuk a botnak, hogy szomorúak vagyunk, megkísérel felvidítani egy aranyos képpel, de sajnos bugos a notebookos verzió, és a képek megszakítják a beszélgetést. 🙃) "
      ]
    },
    {
      "cell_type": "code",
      "metadata": {
        "id": "4bAZzcQ9PsJx",
        "colab": {
          "base_uri": "https://localhost:8080/"
        },
        "outputId": "6e8e4869-4feb-4fdf-edb8-763d421c9bf9"
      },
      "source": [
        "endpoints = 'endpoints.yml'\n",
        "chat(model_path, endpoints)"
      ],
      "execution_count": 10,
      "outputs": [
        {
          "output_type": "stream",
          "text": [
            "Your bot is ready to talk! Type your messages here or send '/stop'.\n",
            "hey\n",
            "\u001b[92mHey! How are you?\u001b[0m\n",
            "I feel great\n",
            "\u001b[92mGreat, carry on!\u001b[0m\n",
            "are you a bot?\n",
            "\u001b[92mI am a bot, powered by Rasa.\u001b[0m\n",
            "thanks, bye\n",
            "\u001b[92mBye\u001b[0m\n",
            "/stop\n"
          ],
          "name": "stdout"
        }
      ]
    },
    {
      "cell_type": "markdown",
      "metadata": {
        "id": "i-Y0KbVFDmow"
      },
      "source": [
        "Ez kezdetnek nem rossz, de ha komolyabb chatbotot szeretnénk, akkor nekünk kell megadnunk a tanító adatot, a kívánt reakciókat, stb..."
      ]
    },
    {
      "cell_type": "markdown",
      "metadata": {
        "id": "N6dZzLjwC_c-"
      },
      "source": [
        "# Saját, magyarul beszélő chatbot\n",
        "\n",
        "Hozzunk létre egy chatbotot a Csongrád Megyei Takarékszövetkezet számára!\n",
        "\n",
        "Azt szeretnénk, hogy a chatbot a következő funkciókat lássa el:\n",
        "* Reagáljon a bot az üdvözlésre, elköszönésre\n",
        "* Le lehessen kérdezni a számlaegyenleget (most egy random számot, mondjuk)\n",
        "* Adjon információt, ha valaki hitelt szeretne felvenni\n",
        "* Képes legyen befagyasztani a bankkárytánk (ha megkérjük rá)\n",
        "* Adjon információt a bank közeli automatáiról és bankfiókjairól.\n",
        "* Ha a felhasználó rákérdez, hogy egy adott bankfiók mikor van nyitva, kérdezze le a nyitvatartást és küldje el neki\n",
        "\n"
      ]
    },
    {
      "cell_type": "code",
      "metadata": {
        "id": "-XgEexNUXkZW",
        "colab": {
          "base_uri": "https://localhost:8080/"
        },
        "outputId": "e32cb483-3792-48b0-b6b5-534e6b6f59f6"
      },
      "source": [
        "%cd /content\n",
        "%mkdir our-very-own-chatbot\n",
        "%cd our-very-own-chatbot\n",
        "%mkdir data"
      ],
      "execution_count": 11,
      "outputs": [
        {
          "output_type": "stream",
          "text": [
            "/content\n",
            "/content/our-very-own-chatbot\n"
          ],
          "name": "stdout"
        }
      ]
    },
    {
      "cell_type": "markdown",
      "metadata": {
        "id": "-aacJPxTaMUt"
      },
      "source": [
        "## Tanítóadat definiálása"
      ]
    },
    {
      "cell_type": "markdown",
      "metadata": {
        "id": "evTJL5lYB5Ds"
      },
      "source": [
        "Az `nlu.md`-ben adjunk meg intenteket és hozzájuk tartozó mondatokat, melyekből a chatbot megtanulhatja, hogy később milyen felhasználótól származó bemenethez milyen intentet rendeljen. <br>\n",
        "Itt adhatunk meg entitásokat is, ld.: `location_open` intent."
      ]
    },
    {
      "cell_type": "code",
      "metadata": {
        "id": "5uFu4ICzX_K-",
        "colab": {
          "base_uri": "https://localhost:8080/"
        },
        "outputId": "12cc0247-0f2b-474e-e808-99c93267f324"
      },
      "source": [
        "%%writefile data/nlu.md\n",
        "\n",
        "## intent: greeting\n",
        "    - szia\n",
        "    - üdv\n",
        "    - jó napot\n",
        "    - jó napot kívánok!\n",
        "    - hello\n",
        "    - jó estét!\n",
        "## intent: closure\n",
        "    - viszlát\n",
        "    - köszönöm, viszlát\n",
        "    - köszönöm a segítséget\n",
        "    - viszontlátásra\n",
        "    - kössz viszlát\n",
        "## intent: balance\n",
        "    - mennyi pénz van a számlámon?\n",
        "    - mennyi pénzem van?\n",
        "    - arra vagyok kiváncsi hogy mennyi az egyenlegem\n",
        "    - hány forint van a számlámon?\n",
        "    - hány forint az egyenlegem?\n",
        "    - mutasd az egyenlegem\n",
        "    - mutasd hogy mennyim van\n",
        "## intent: credit\n",
        "    - hitelt szeretnék felvenni\n",
        "    - kölcsönt szeretnék\n",
        "    - kölcsönre lenne szükségem\n",
        "    - banki hitelre lenne szükségem\n",
        "    - hitelt szeretnék felvenni egy lakásra\n",
        "    - kölcsönt vennék fel\n",
        "## intent: freeze_card\n",
        "    - ellopták a kártyám\n",
        "    - elveszett a bankkártyám\n",
        "    - a bankkártyám eltűnt\n",
        "    - nincs meg a bankkártyám\n",
        "    - szeretném zárolni a kártyám\n",
        "    - szeretném befagyasztani a kártyám\n",
        "    - be szeretném fagyasztani a kártyám\n",
        "## intent: atm_location\n",
        "    - hol van a legközelebbi atm?\n",
        "    - bankautomatát keresek\n",
        "    - egy automatát keresek\n",
        "    - mutass egy közeli automatát\n",
        "    - pénzt szeretnék felvenni\n",
        "    - készpénzt szeretnék felvenni\n",
        "    - készpénzre van szükségem\n",
        "    - hol tudok készpénzt felvenni?\n",
        "    - mutasd az atmeket\n",
        "    - egy atm-et keresek\n",
        "    - hol találok automatát?\n",
        "    - hol a legközelebbi atm?\n",
        "    - egy atm kéne\n",
        "## intent: bank_location\n",
        "    - hol a legközelebbi fiókotok?\n",
        "    - egy bankfiókot keresek\n",
        "    - hol vannak bankfiókjaitok?\n",
        "    - mutasd a bankok listáját\n",
        "    - egy bankot keresek\n",
        "    - legközelebbi bank?\n",
        "    - közeli bankok listája?\n",
        "    - hol tudok ügyet intézni?\n",
        "    - hol található bankfiók?\n",
        "    - bankfiók helyet keresek\n",
        "## intent: location_open\n",
        "    - mi a [szatymazi](bank_location) fiók nyitvatartása?\n",
        "    - mikor nyit a [szegedi](bank_location) bankotok?\n",
        "    - mikor tudék bemenni [makón](bank_location) a bankba?\n",
        "    - mi a nyitvatartási ideje a [szegeden](bank_location) lévő fióknak?\n",
        "    - nyitva van holnap a [makói](bank_location) fiókuk?\n",
        "    - mikor nyit holnap a bank [szegeden](bank_location)?\n",
        "    - meddig van nyitva a bank [szatymazon](bank_location)?\n",
        "    - mi a [szegedi](bank_location) fiók nyitvatartási ideje?\n",
        "    - nyitva van még a bank [szatymazon](bank_location)?\n",
        "    - bezárt már a [makói](bank_location) fiókuk?\n",
        "    - meddig vannak nyitva a fiókjaik?\n",
        "    - mi a nyitvatartási idejük?\n",
        "    - mikor érhető el az ügyfélszolgálatuk?\n",
        "    - mi az ügyfélszolgálat nyitvatartási ideje?"
      ],
      "execution_count": 12,
      "outputs": [
        {
          "output_type": "stream",
          "text": [
            "Writing data/nlu.md\n"
          ],
          "name": "stdout"
        }
      ]
    },
    {
      "cell_type": "markdown",
      "metadata": {
        "id": "qyeHmfalFkQb"
      },
      "source": [
        "Adjunk meg felhasználói sztorikat, a bot ebből tanulja a dialógus modellt. Ezáltal fogja tudni, hogy milyen válaszokat kell adnia az egyes felhasználói kérésekre.\n",
        "<br>\n",
        "Szorik formája:\n",
        "```\n",
        "## Sztori neve\n",
        "* ezt a szándékot detektáljuk a felhasználótól\n",
        "  - a bot erre így reagál\n",
        "```\n",
        "\n"
      ]
    },
    {
      "cell_type": "code",
      "metadata": {
        "id": "q_wyNLKh6u4G",
        "colab": {
          "base_uri": "https://localhost:8080/"
        },
        "outputId": "97bb2ae4-4f1d-4a32-89a4-cba588346083"
      },
      "source": [
        "%%writefile data/stories.md\n",
        "\n",
        "## intro\n",
        "* greeting\n",
        "  - utter_greeting\n",
        "\n",
        "## balance\n",
        "* greeting\n",
        "  - utter_greeting\n",
        "* balance\n",
        "  - action_get_balance\n",
        "\n",
        "## balance 1\n",
        "* balance\n",
        "  - action_get_balance\n",
        "\n",
        "## credit\n",
        "* greeting\n",
        "  - utter_greeting\n",
        "* credit\n",
        "  - utter_credit\n",
        "* closure\n",
        "  - utter_closure\n",
        "\n",
        "## bank_data\n",
        "* greeting\n",
        "  - utter_greeting\n",
        "* bank_location\n",
        "  - utter_bank_location\n",
        "* closure\n",
        "  - utter_closure\n",
        "\n",
        "## bank_data\n",
        "* greeting\n",
        "  - utter_greeting\n",
        "* bank_location\n",
        "  - utter_bank_location\n",
        "* closure\n",
        "  - utter_closure\n",
        "\n",
        "## freeze_card_1\n",
        "* freeze_card\n",
        "  - utter_freeze_card\n",
        "* bank_location\n",
        "  - utter_bank_location\n",
        "* closure\n",
        "  - utter_closure\n",
        "\n",
        "## freeze_card_2\n",
        "* greeting\n",
        "  - utter_greeting\n",
        "* freeze_card\n",
        "  - utter_freeze_card\n",
        "\n",
        "## freeze_card_3\n",
        "* atm_location\n",
        "  - utter_atm_location\n",
        "* freeze_card\n",
        "  - utter_freeze_card\n",
        "* closure\n",
        "  - utter_closure\n",
        "\n",
        "## credit\n",
        "* credit\n",
        "  - utter_credit\n",
        "* bank_location\n",
        "  - utter_bank_location\n",
        "* closure\n",
        "  - utter_closure\n",
        "\n",
        "## atm_loc_greeting\n",
        "* greeting\n",
        "  - utter_greeting\n",
        "* atm_location\n",
        "  - utter_atm_location\n",
        "* closure\n",
        "  - utter_closure\n",
        "\n",
        "## atm_loc\n",
        "* atm_location\n",
        "  - utter_atm_location\n",
        "\n",
        "## bank_open\n",
        "* location_open {\"bank_location\": \"makó\"}\n",
        "  - action_location_open\n",
        "\n",
        "## bank_open_1\n",
        "* greeting\n",
        "  - utter_greeting\n",
        "* location_open {\"bank_location\": \"makó\"}\n",
        "  - action_location_open\n",
        "\n",
        "## bank_open 2\n",
        "* location_open {\"bank_location\": \"makói\"}\n",
        "  - action_location_open\n",
        "\n",
        "## bank_open 3\n",
        "* location_open {\"bank_location\": \"szeged\"}\n",
        "  - action_location_open\n",
        "\n",
        "## bank_open 4\n",
        "* location_open {\"bank_location\": \"szatymaz\"}\n",
        "  - action_location_open\n",
        "\n",
        "## bank_open 5\n",
        "* location_open {\"bank_location\": \"szegeden\"}\n",
        "  - action_location_open\n",
        "\n",
        "## bank_open 5\n",
        "* location_open {\"bank_location\": \"szegedi\"}\n",
        "  - action_location_open"
      ],
      "execution_count": 13,
      "outputs": [
        {
          "output_type": "stream",
          "text": [
            "Writing data/stories.md\n"
          ],
          "name": "stdout"
        }
      ]
    },
    {
      "cell_type": "markdown",
      "metadata": {
        "id": "GBmlMhvtQFqU"
      },
      "source": [
        "A `domain.yml`-ben a chatbot univerzumát határozzuk meg, mindent itt adunk meg ami a beszélgetésben értelmezett. Felsoroljuk az intenteket, a bot válaszait, az akciókat, stb..."
      ]
    },
    {
      "cell_type": "code",
      "metadata": {
        "id": "uUVLeL7nhuq5",
        "colab": {
          "base_uri": "https://localhost:8080/"
        },
        "outputId": "a6415e19-ae5d-4042-d1c5-1aa5192d67c6"
      },
      "source": [
        "%%writefile domain.yml\n",
        "\n",
        "entities: \n",
        "  - bank_location\n",
        "\n",
        "intents: \n",
        "  - greeting\n",
        "  - closure\n",
        "  - balance\n",
        "  - credit\n",
        "  - freeze_card\n",
        "  - atm_location\n",
        "  - bank_location\n",
        "  - location_open\n",
        "\n",
        "templates: \n",
        "  utter_atm_location: \n",
        "    - text: \"Az ATM-eink a következő felületen kereshetők: www.csongraditakarek.hu/atms\"\n",
        "  utter_bank_location: \n",
        "    - text: \"Jelenleg három bankfiókkal rendelkezünk: Szegeden, Makón és Szatymazon.\"\n",
        "  utter_closure: \n",
        "    - text: \"Viszlát!\"\n",
        "  utter_credit: \n",
        "    - text: \"Hiteligényléshez kérjük keresse fel egyik fiókunkat! Az elérhető információkról a honlapunkon tájékozódhat.\"\n",
        "  utter_freeze_card: \n",
        "    - text: \"Kártyáját azonnali hatállyal befagyasztottuk. További információért keresse ügyintézőinket.\"\n",
        "  utter_greeting: \n",
        "    - text: \"Üdvözlöm! Miben segíthetek?\"\n",
        "\n",
        "actions:\n",
        "  - action_location_open\n",
        "  - action_get_balance\n",
        "  - utter_greeting\n",
        "  - utter_closure\n",
        "  - utter_balance\n",
        "  - utter_credit\n",
        "  - utter_freeze_card\n",
        "  - utter_atm_location\n",
        "  - utter_bank_location"
      ],
      "execution_count": 14,
      "outputs": [
        {
          "output_type": "stream",
          "text": [
            "Writing domain.yml\n"
          ],
          "name": "stdout"
        }
      ]
    },
    {
      "cell_type": "markdown",
      "metadata": {
        "id": "buqUpCjVQme6"
      },
      "source": [
        "Szükség lehet azonban arra, hogy a bot bonyolultabb üzleti logikát valósítson meg egy-egy felhasználói inputra. Ilyenkor kóddal adhatjuk meg, hogy mit csináljon a bot.\n",
        "<br>\n",
        "Esetünkben két komplexebb feladata van a botnak:\n",
        "*   lekérdezni, hogy melyik bankfiók mikor van nyitva\n",
        "*   lekérdezni a felhasználó számlaegyenlegét\n",
        "\n",
        "Esetünkben egyszerű statikus választ adunk az első esetben és egy 0-100,000 közti random számot a másodikban, de könnyen látható, hogy ebben a lépésben bármilyen API hívást, adatbázis lekérdezést megvalósíthatnánk...\n"
      ]
    },
    {
      "cell_type": "code",
      "metadata": {
        "id": "rY1k8Td8nZnw",
        "colab": {
          "base_uri": "https://localhost:8080/"
        },
        "outputId": "e3a961b3-083d-4f99-a0b3-bee987d0a528"
      },
      "source": [
        "%%writefile actions.py\n",
        "\n",
        "from random import randint\n",
        "from typing import Any, Text, Dict, List\n",
        "\n",
        "from rasa_sdk import Action, Tracker\n",
        "from rasa_sdk.executor import CollectingDispatcher\n",
        "\n",
        "class ActionLocationOpen(Action):\n",
        "\n",
        "    def name(self) -> Text:\n",
        "        return \"action_location_open\"\n",
        "\n",
        "    def run(self, dispatcher: CollectingDispatcher, tracker: Tracker, domain: Dict[Text, Any]) -> List[Dict[Text, Any]]:\n",
        "        \"\"\"\n",
        "        Kérdezzük le az egyes bankokhoz a nyitvatartást\n",
        "        \"\"\"\n",
        "        if tracker.latest_message['entities']:\n",
        "          # megkapjuk az entitást, amit kinyert az NLU pipeline a felhasználó üzenetéből\n",
        "          # ezután megnézzük, hogy melyik bankfiók helyszín van az entitásban és annak függvényében válaszolunk\n",
        "\n",
        "          entity = tracker.latest_message['entities'][0]['value']\n",
        "          if 'szeged' in entity.lower():\n",
        "            dispatcher.utter_message(text=f'A szegedi bankunk 0-24 órában nyitva tart.')\n",
        "          elif 'mak' in entity.lower():\n",
        "            dispatcher.utter_message(text=f'A makói bankunk hétköznapokon reggel 9-től este 6-ig tart nyitva.')\n",
        "          elif 'szatymaz' in entity.lower():\n",
        "            dispatcher.utter_message(text=f'A szatymazi bankunk hétköznapokon és szombaton reggel 7-től este 8-ig tart nyitva.')\n",
        "        else:\n",
        "          dispatcher.utter_message(text='A bankfiókok nyitvatartása elérhető itt: www.csongratitakarek.hu/nyitvatartas')\n",
        "\n",
        "        return []\n",
        "\n",
        "\n",
        "class ActionGetBalance(Action):\n",
        "\n",
        "    def name(self) -> Text:\n",
        "        return \"action_get_balance\"\n",
        "\n",
        "    def run(self, dispatcher: CollectingDispatcher, tracker: Tracker, domain: Dict[Text, Any]) -> List[Dict[Text, Any]]:\n",
        "        \"\"\"\n",
        "        Adjuk vissza a számlaegyenleget\n",
        "        \"\"\"\n",
        "        balance = f'{randint(0,100000):,}'\n",
        "        dispatcher.utter_message(text=f'Egyenleged: {balance} Ft')\n",
        "\n",
        "        return []"
      ],
      "execution_count": 15,
      "outputs": [
        {
          "output_type": "stream",
          "text": [
            "Writing actions.py\n"
          ],
          "name": "stdout"
        }
      ]
    },
    {
      "cell_type": "markdown",
      "metadata": {
        "id": "582WeR9paWyz"
      },
      "source": [
        "## Modell tanítása"
      ]
    },
    {
      "cell_type": "markdown",
      "metadata": {
        "id": "WgRJSiHnSLpO"
      },
      "source": [
        "Tanítsuk meg a botot, hogy értse a felhasználói üzeneteket és a sztorikban látottakhoz hasonlóan tudjon viselkedni! <br>\n",
        "Adjuk meg a következő NLU pipelinet:"
      ]
    },
    {
      "cell_type": "code",
      "metadata": {
        "id": "WnbnX8YmYLuf",
        "colab": {
          "base_uri": "https://localhost:8080/"
        },
        "outputId": "31724936-d5d3-4481-ef4d-730aacc95173"
      },
      "source": [
        "%%writefile config.yml\n",
        "\n",
        "language: hu\n",
        "\n",
        "pipeline:\n",
        "  - name: SpacyNLP\n",
        "  - name: SpacyTokenizer\n",
        "  - name: SpacyFeaturizer\n",
        "  - name: CountVectorsFeaturizer\n",
        "  - name: DIETClassifier\n",
        "    epochs: 100\n",
        "    entity_recognition: true\n",
        "\n",
        "policies:\n",
        "   - name: MemoizationPolicy\n",
        "   - name: TEDPolicy\n",
        "     max_history: 5\n",
        "     epochs: 100"
      ],
      "execution_count": 16,
      "outputs": [
        {
          "output_type": "stream",
          "text": [
            "Writing config.yml\n"
          ],
          "name": "stdout"
        }
      ]
    },
    {
      "cell_type": "markdown",
      "metadata": {
        "id": "c83dLnEuxMVC"
      },
      "source": [
        "De mit is csinál ez pontosan?\n",
        "\n",
        "`language: hu` -> a notebook elején linkeltük a magyar nyelvű Spacy modelleket a `hu` kulcsszó alá, a Rasa ott fogja keresni majd\n",
        "\n",
        "**pipeline**: -> NLP lépések egy sorozata, amit minden input szövegen elvégzünk\n",
        "* **SpacyNLP** - inicializálja a Spacy-t\n",
        "* **SpacyTokenizer** - tokenizálja a bejövő üzenetet a Spacy tokenizálójával (részletek: https://rasa.com/docs/rasa/components/#spacytokenizer)\n",
        "* **SpacyFeaturizer** - beolvassa az egyes szavakhoz a vektoros reprezentációkat, alap beállítással átlagolással (mean pooling) kiszámolja a teljes bemenethez tartozó vektoros jellemzőt (részletek: https://rasa.com/docs/rasa/components/#spacytokenizer)\n",
        "* **CountVectorsFeaturizer** - a tokenek alapján számoljunk le egy szózsákos reprezentációt is (részletek: https://rasa.com/docs/rasa/components/#countvectorsfeaturizer)\n",
        "* **DIETClassifier** - intentek és entitások együttes kinyerését végző mélytanuló architektúra, bemenete: sűrű (\n",
        "  a Spacy-s dokumentum vektorok) és/vagy a ritka (szózsákos) vektorok (részletek: https://rasa.com/docs/rasa/components#dietclassifier és https://arxiv.org/pdf/2004.09936.pdf)\n",
        "\n",
        "**policies**: -> stratégiákat adunk meg a bot számára, hogy milyen lépéseket tegyen bizonyos felhasználói inputokra\n",
        "* **MemoizationPolicy** - megjegyzi a megadott sztorikat, ha olyan beszélgetésmintával találkozunk, ami része a sztoriknak visszaadja az ott megadott szükséges akciót (Részletek: https://rasa.com/docs/rasa/policies/#memoization-policy)\n",
        "* **TED policy** - gépi tanulási alapon predikálja a szükséges következő akciót, ha nem része az input a sztoriknak (Részletek: https://rasa.com/docs/rasa/policies/#ted-policy)\n",
        "\n"
      ]
    },
    {
      "cell_type": "code",
      "metadata": {
        "id": "kUPEup8mUqB1",
        "colab": {
          "base_uri": "https://localhost:8080/"
        },
        "outputId": "0dacc7eb-e21d-456b-b27c-c07597c8abca"
      },
      "source": [
        "%rm models/ -r"
      ],
      "execution_count": 17,
      "outputs": [
        {
          "output_type": "stream",
          "text": [
            "rm: cannot remove 'models/': No such file or directory\n"
          ],
          "name": "stdout"
        }
      ]
    },
    {
      "cell_type": "code",
      "metadata": {
        "id": "bYrqiKXah-nT",
        "colab": {
          "base_uri": "https://localhost:8080/"
        },
        "outputId": "e41027a0-364c-4561-9f3d-e58c952080a7"
      },
      "source": [
        "config = \"config.yml\"\n",
        "training_files = \"data/\"\n",
        "domain = \"domain.yml\"\n",
        "output = \"models/\"\n",
        "\n",
        "model_path = rasa.train(domain, config, [training_files], output)\n",
        "print(model_path)"
      ],
      "execution_count": 18,
      "outputs": [
        {
          "output_type": "stream",
          "text": [
            "Processed Story Blocks: 100%|██████████| 19/19 [00:00<00:00, 542.93it/s, # trackers=1]\n",
            "Processed Story Blocks: 100%|██████████| 19/19 [00:00<00:00, 211.99it/s, # trackers=13]\n",
            "Processed Story Blocks:   0%|          | 0/19 [00:00<?, ?it/s]"
          ],
          "name": "stderr"
        },
        {
          "output_type": "stream",
          "text": [
            "\u001b[94mTraining Core model...\u001b[0m\n"
          ],
          "name": "stdout"
        },
        {
          "output_type": "stream",
          "text": [
            "Processed Story Blocks: 100%|██████████| 19/19 [00:00<00:00, 118.51it/s, # trackers=32]\n",
            "Processed Story Blocks: 100%|██████████| 19/19 [00:00<00:00, 105.97it/s, # trackers=27]\n",
            "Processed trackers: 100%|██████████| 13/13 [00:00<00:00, 117.68it/s, # actions=43]\n",
            "Processed actions: 43it [00:00, 660.02it/s, # examples=43]\n",
            "Processed trackers: 100%|██████████| 513/513 [00:16<00:00, 30.88it/s, # actions=379]\n",
            "Epochs: 100%|██████████| 100/100 [00:38<00:00,  2.58it/s, t_loss=0.070, loss=0.001, acc=1.000]\n"
          ],
          "name": "stderr"
        },
        {
          "output_type": "stream",
          "text": [
            "\u001b[94mCore model training completed.\u001b[0m\n",
            "\u001b[94mTraining NLU model...\u001b[0m\n"
          ],
          "name": "stdout"
        },
        {
          "output_type": "stream",
          "text": [
            "Epochs: 100%|██████████| 100/100 [00:29<00:00,  3.38it/s, t_loss=0.755, i_loss=0.100, entity_loss=0.039, i_acc=1.000, entity_f1=0.633]\n"
          ],
          "name": "stderr"
        },
        {
          "output_type": "stream",
          "text": [
            "\u001b[94mNLU model training completed.\u001b[0m\n",
            "\u001b[92mYour Rasa model is trained and saved at '/content/our-very-own-chatbot/models/20210425-160918.tar.gz'.\u001b[0m\n",
            "models/20210425-160918.tar.gz\n"
          ],
          "name": "stdout"
        }
      ]
    },
    {
      "cell_type": "markdown",
      "metadata": {
        "id": "xfgirHjpaBy6"
      },
      "source": [
        "## NLU modell kiértékelése\n",
        "\n",
        "Értékeljük ki az imént tanított NLU pipelinet, hogy képet kapjunk arról, milyen pontos lesz előreláthatólag a bot majd \"production\"-ben, vannak-e a felhasználói input értelmezésnek gyenge pontjai..."
      ]
    },
    {
      "cell_type": "code",
      "metadata": {
        "id": "CaD8kW3zXN3o"
      },
      "source": [
        "# kicsomagolom az imént tanított modellt, ehhez kiírom előbb a nevét környezeti változónak, hogy parancssorból elérjem\n",
        "os.environ['model_path'] = model_path.split('/')[-1]"
      ],
      "execution_count": 19,
      "outputs": []
    },
    {
      "cell_type": "code",
      "metadata": {
        "id": "79BbUz7kXYY7",
        "colab": {
          "base_uri": "https://localhost:8080/"
        },
        "outputId": "9eb06e1e-ce25-4efe-8ad5-53800909eb44"
      },
      "source": [
        "%%sh\n",
        "echo A modellem neve pedig:\n",
        "echo $model_path\n",
        "echo\n",
        "echo Csomagoljuk ki...\n",
        "cd models\n",
        "mkdir latest_model\n",
        "tar -xf $model_path -C latest_model\n",
        "ls latest_model/nlu"
      ],
      "execution_count": 20,
      "outputs": [
        {
          "output_type": "stream",
          "text": [
            "A modellem neve pedig:\n",
            "20210425-160918.tar.gz\n",
            "\n",
            "Csomagoljuk ki...\n",
            "checkpoint\n",
            "component_3_CountVectorsFeaturizer.pkl\n",
            "component_4_DIETClassifier.data_example.pkl\n",
            "component_4_DIETClassifier.entity_tag_specs.json\n",
            "component_4_DIETClassifier.index_label_id_mapping.pkl\n",
            "component_4_DIETClassifier.label_data.pkl\n",
            "component_4_DIETClassifier.tf_model.data-00000-of-00001\n",
            "component_4_DIETClassifier.tf_model.index\n",
            "metadata.json\n"
          ],
          "name": "stdout"
        }
      ]
    },
    {
      "cell_type": "markdown",
      "metadata": {
        "id": "qV6Nh9xQT9rQ"
      },
      "source": [
        "Olyan mondatokon célszerű kiértékelni a modellt, amelyeket nem látott a tanítás során. Gyűjtsünk ilyeneket a `test_nlu.md` fájlba."
      ]
    },
    {
      "cell_type": "code",
      "metadata": {
        "id": "nOWrPt7RNOhz",
        "colab": {
          "base_uri": "https://localhost:8080/"
        },
        "outputId": "3133bed5-0f39-466f-f8a3-52483621a1e0"
      },
      "source": [
        "%%writefile test_nlu.md\n",
        "\n",
        "## intent: greeting\n",
        "    - üdvözlöm\n",
        "    - hali\n",
        "    - jó reggelt kívánok\n",
        "    - hej\n",
        "## intent: closure\n",
        "    - köszönöm a segítséget, viszlát\n",
        "    - viszont hallásra\n",
        "    - további szép napot\n",
        "    - kössz, ennyit akartam csak\n",
        "## intent: balance\n",
        "    - mennyi a számlaegyenlegem?\n",
        "    - megtudhatom hogy hány forint van a számlámon?\n",
        "    - azt szeretném tudni, hogy mennyi pénzem van\n",
        "    - mennyi pénz van a kártyámon?\n",
        "## intent: credit\n",
        "    - banki kölcsönre van szükségem\n",
        "    - lakáscélú hitel érdekelne\n",
        "    - milyen törlesztőrészlettel tudnak hitelt adni?\n",
        "    - kölcsönt szeretnék felvenni egy autóra\n",
        "## intent: freeze_card\n",
        "    - fagyasszák be a kártyám kérem\n",
        "    - a bankkártyám ellopták, mit tudnánk tenni?\n",
        "    - zároljuk a kártyám\n",
        "    - zárolni kéne a kártyám, szerintem ellopták\n",
        "## intent: atm_location\n",
        "    - mutass egy közeli atm-et\n",
        "    - egy bank automatát keresek ahol pénzt vehetek fel\n",
        "    - bankautomatát keresek\n",
        "    - hol vannak atmek?\n",
        "## intent: bank_location\n",
        "    - mutass egy közeli bankot\n",
        "    - hol vannak fiókjai a banknak?\n",
        "    - hol találom a legközelebbi fiókot?\n",
        "    - bankfiókot keresek\n",
        "## intent: location_open\n",
        "    - milyen idősávban tart nyitva a bank [szegeden](bank_location)?\n",
        "    - a [makói](bank_location) fiók nyitvarartása érdekelne\n",
        "    - most zárva taart épp a [szatymazi](bank_location) fiók?\n",
        "    - a [makói](bank_location) nyitva van épp?\n",
        "    - nyitva vannak most?\n",
        "    - a [szatymazi](bank_location) fiók nyitvatartása?\n",
        "    - mi a nyitvatartás [szegeden](bank_location)?"
      ],
      "execution_count": 21,
      "outputs": [
        {
          "output_type": "stream",
          "text": [
            "Writing test_nlu.md\n"
          ],
          "name": "stdout"
        }
      ]
    },
    {
      "cell_type": "markdown",
      "metadata": {
        "id": "z6NSwVPAULM7"
      },
      "source": [
        "Futtassuk a kiértékelést a tanult modellel a fent megadott teszt adaton:"
      ]
    },
    {
      "cell_type": "code",
      "metadata": {
        "id": "bKPMZGPfKlZg",
        "colab": {
          "base_uri": "https://localhost:8080/"
        },
        "outputId": "310535d5-846a-45d3-c9ff-fab4391ab927"
      },
      "source": [
        "evaluation_output = rasa.nlu.test(data_path='test_nlu.md', model_path='models/latest_model/nlu')"
      ],
      "execution_count": 22,
      "outputs": [
        {
          "output_type": "stream",
          "text": [
            "WARNING:tensorflow:From /usr/local/lib/python3.7/dist-packages/tensorflow_core/python/ops/array_grad.py:563: _EagerTensorBase.cpu (from tensorflow.python.framework.ops) is deprecated and will be removed in a future version.\n",
            "Instructions for updating:\n",
            "Use tf.identity instead.\n"
          ],
          "name": "stdout"
        },
        {
          "output_type": "stream",
          "text": [
            "100%|██████████| 35/35 [00:02<00:00, 12.20it/s]\n"
          ],
          "name": "stderr"
        }
      ]
    },
    {
      "cell_type": "markdown",
      "metadata": {
        "id": "p_JLL1axUTi6"
      },
      "source": [
        "Nézzük meg, hogy milyen felhasználói inputra milyen intentet predikált a bot."
      ]
    },
    {
      "cell_type": "code",
      "metadata": {
        "id": "AWugT8wvR3_P",
        "colab": {
          "base_uri": "https://localhost:8080/",
          "height": 1000
        },
        "outputId": "f76910ce-03e9-42a9-f011-59bd0a509513"
      },
      "source": [
        "import pandas as pd\n",
        "\n",
        "eval_df = pd.DataFrame(evaluation_output['intent_evaluation']['predictions'])\n",
        "eval_df"
      ],
      "execution_count": 23,
      "outputs": [
        {
          "output_type": "execute_result",
          "data": {
            "text/html": [
              "<div>\n",
              "<style scoped>\n",
              "    .dataframe tbody tr th:only-of-type {\n",
              "        vertical-align: middle;\n",
              "    }\n",
              "\n",
              "    .dataframe tbody tr th {\n",
              "        vertical-align: top;\n",
              "    }\n",
              "\n",
              "    .dataframe thead th {\n",
              "        text-align: right;\n",
              "    }\n",
              "</style>\n",
              "<table border=\"1\" class=\"dataframe\">\n",
              "  <thead>\n",
              "    <tr style=\"text-align: right;\">\n",
              "      <th></th>\n",
              "      <th>text</th>\n",
              "      <th>intent</th>\n",
              "      <th>predicted</th>\n",
              "      <th>confidence</th>\n",
              "    </tr>\n",
              "  </thead>\n",
              "  <tbody>\n",
              "    <tr>\n",
              "      <th>0</th>\n",
              "      <td>üdvözlöm</td>\n",
              "      <td>greeting</td>\n",
              "      <td>greeting</td>\n",
              "      <td>0.505515</td>\n",
              "    </tr>\n",
              "    <tr>\n",
              "      <th>1</th>\n",
              "      <td>hali</td>\n",
              "      <td>greeting</td>\n",
              "      <td>freeze_card</td>\n",
              "      <td>0.323020</td>\n",
              "    </tr>\n",
              "    <tr>\n",
              "      <th>2</th>\n",
              "      <td>jó reggelt kívánok</td>\n",
              "      <td>greeting</td>\n",
              "      <td>greeting</td>\n",
              "      <td>0.938327</td>\n",
              "    </tr>\n",
              "    <tr>\n",
              "      <th>3</th>\n",
              "      <td>hej</td>\n",
              "      <td>greeting</td>\n",
              "      <td>greeting</td>\n",
              "      <td>0.733292</td>\n",
              "    </tr>\n",
              "    <tr>\n",
              "      <th>4</th>\n",
              "      <td>köszönöm a segítséget, viszlát</td>\n",
              "      <td>closure</td>\n",
              "      <td>closure</td>\n",
              "      <td>0.998397</td>\n",
              "    </tr>\n",
              "    <tr>\n",
              "      <th>5</th>\n",
              "      <td>viszont hallásra</td>\n",
              "      <td>closure</td>\n",
              "      <td>bank_location</td>\n",
              "      <td>0.609324</td>\n",
              "    </tr>\n",
              "    <tr>\n",
              "      <th>6</th>\n",
              "      <td>további szép napot</td>\n",
              "      <td>closure</td>\n",
              "      <td>greeting</td>\n",
              "      <td>0.980338</td>\n",
              "    </tr>\n",
              "    <tr>\n",
              "      <th>7</th>\n",
              "      <td>kössz, ennyit akartam csak</td>\n",
              "      <td>closure</td>\n",
              "      <td>freeze_card</td>\n",
              "      <td>0.419189</td>\n",
              "    </tr>\n",
              "    <tr>\n",
              "      <th>8</th>\n",
              "      <td>mennyi a számlaegyenlegem?</td>\n",
              "      <td>balance</td>\n",
              "      <td>balance</td>\n",
              "      <td>0.958290</td>\n",
              "    </tr>\n",
              "    <tr>\n",
              "      <th>9</th>\n",
              "      <td>megtudhatom hogy hány forint van a számlámon?</td>\n",
              "      <td>balance</td>\n",
              "      <td>balance</td>\n",
              "      <td>0.999557</td>\n",
              "    </tr>\n",
              "    <tr>\n",
              "      <th>10</th>\n",
              "      <td>azt szeretném tudni, hogy mennyi pénzem van</td>\n",
              "      <td>balance</td>\n",
              "      <td>balance</td>\n",
              "      <td>0.989483</td>\n",
              "    </tr>\n",
              "    <tr>\n",
              "      <th>11</th>\n",
              "      <td>mennyi pénz van a kártyámon?</td>\n",
              "      <td>balance</td>\n",
              "      <td>balance</td>\n",
              "      <td>0.995371</td>\n",
              "    </tr>\n",
              "    <tr>\n",
              "      <th>12</th>\n",
              "      <td>banki kölcsönre van szükségem</td>\n",
              "      <td>credit</td>\n",
              "      <td>credit</td>\n",
              "      <td>0.795847</td>\n",
              "    </tr>\n",
              "    <tr>\n",
              "      <th>13</th>\n",
              "      <td>lakáscélú hitel érdekelne</td>\n",
              "      <td>credit</td>\n",
              "      <td>credit</td>\n",
              "      <td>0.840898</td>\n",
              "    </tr>\n",
              "    <tr>\n",
              "      <th>14</th>\n",
              "      <td>milyen törlesztőrészlettel tudnak hitelt adni?</td>\n",
              "      <td>credit</td>\n",
              "      <td>credit</td>\n",
              "      <td>0.502815</td>\n",
              "    </tr>\n",
              "    <tr>\n",
              "      <th>15</th>\n",
              "      <td>kölcsönt szeretnék felvenni egy autóra</td>\n",
              "      <td>credit</td>\n",
              "      <td>credit</td>\n",
              "      <td>0.946580</td>\n",
              "    </tr>\n",
              "    <tr>\n",
              "      <th>16</th>\n",
              "      <td>fagyasszák be a kártyám kérem</td>\n",
              "      <td>freeze_card</td>\n",
              "      <td>freeze_card</td>\n",
              "      <td>0.985014</td>\n",
              "    </tr>\n",
              "    <tr>\n",
              "      <th>17</th>\n",
              "      <td>a bankkártyám ellopták, mit tudnánk tenni?</td>\n",
              "      <td>freeze_card</td>\n",
              "      <td>freeze_card</td>\n",
              "      <td>0.557256</td>\n",
              "    </tr>\n",
              "    <tr>\n",
              "      <th>18</th>\n",
              "      <td>zároljuk a kártyám</td>\n",
              "      <td>freeze_card</td>\n",
              "      <td>freeze_card</td>\n",
              "      <td>0.974980</td>\n",
              "    </tr>\n",
              "    <tr>\n",
              "      <th>19</th>\n",
              "      <td>zárolni kéne a kártyám, szerintem ellopták</td>\n",
              "      <td>freeze_card</td>\n",
              "      <td>freeze_card</td>\n",
              "      <td>0.961940</td>\n",
              "    </tr>\n",
              "    <tr>\n",
              "      <th>20</th>\n",
              "      <td>mutass egy közeli atm-et</td>\n",
              "      <td>atm_location</td>\n",
              "      <td>atm_location</td>\n",
              "      <td>0.999754</td>\n",
              "    </tr>\n",
              "    <tr>\n",
              "      <th>21</th>\n",
              "      <td>egy bank automatát keresek ahol pénzt vehetek fel</td>\n",
              "      <td>atm_location</td>\n",
              "      <td>bank_location</td>\n",
              "      <td>0.479028</td>\n",
              "    </tr>\n",
              "    <tr>\n",
              "      <th>22</th>\n",
              "      <td>bankautomatát keresek</td>\n",
              "      <td>atm_location</td>\n",
              "      <td>atm_location</td>\n",
              "      <td>0.999440</td>\n",
              "    </tr>\n",
              "    <tr>\n",
              "      <th>23</th>\n",
              "      <td>hol vannak atmek?</td>\n",
              "      <td>atm_location</td>\n",
              "      <td>bank_location</td>\n",
              "      <td>0.850518</td>\n",
              "    </tr>\n",
              "    <tr>\n",
              "      <th>24</th>\n",
              "      <td>mutass egy közeli bankot</td>\n",
              "      <td>bank_location</td>\n",
              "      <td>bank_location</td>\n",
              "      <td>0.991957</td>\n",
              "    </tr>\n",
              "    <tr>\n",
              "      <th>25</th>\n",
              "      <td>hol vannak fiókjai a banknak?</td>\n",
              "      <td>bank_location</td>\n",
              "      <td>bank_location</td>\n",
              "      <td>0.996900</td>\n",
              "    </tr>\n",
              "    <tr>\n",
              "      <th>26</th>\n",
              "      <td>hol találom a legközelebbi fiókot?</td>\n",
              "      <td>bank_location</td>\n",
              "      <td>bank_location</td>\n",
              "      <td>0.983033</td>\n",
              "    </tr>\n",
              "    <tr>\n",
              "      <th>27</th>\n",
              "      <td>bankfiókot keresek</td>\n",
              "      <td>bank_location</td>\n",
              "      <td>bank_location</td>\n",
              "      <td>0.997655</td>\n",
              "    </tr>\n",
              "    <tr>\n",
              "      <th>28</th>\n",
              "      <td>milyen idősávban tart nyitva a bank szegeden?</td>\n",
              "      <td>location_open</td>\n",
              "      <td>location_open</td>\n",
              "      <td>0.999870</td>\n",
              "    </tr>\n",
              "    <tr>\n",
              "      <th>29</th>\n",
              "      <td>a makói fiók nyitvarartása érdekelne</td>\n",
              "      <td>location_open</td>\n",
              "      <td>location_open</td>\n",
              "      <td>0.996972</td>\n",
              "    </tr>\n",
              "    <tr>\n",
              "      <th>30</th>\n",
              "      <td>most zárva taart épp a szatymazi fiók?</td>\n",
              "      <td>location_open</td>\n",
              "      <td>location_open</td>\n",
              "      <td>0.999112</td>\n",
              "    </tr>\n",
              "    <tr>\n",
              "      <th>31</th>\n",
              "      <td>a makói nyitva van épp?</td>\n",
              "      <td>location_open</td>\n",
              "      <td>location_open</td>\n",
              "      <td>0.999833</td>\n",
              "    </tr>\n",
              "    <tr>\n",
              "      <th>32</th>\n",
              "      <td>nyitva vannak most?</td>\n",
              "      <td>location_open</td>\n",
              "      <td>location_open</td>\n",
              "      <td>0.994968</td>\n",
              "    </tr>\n",
              "    <tr>\n",
              "      <th>33</th>\n",
              "      <td>a szatymazi fiók nyitvatartása?</td>\n",
              "      <td>location_open</td>\n",
              "      <td>location_open</td>\n",
              "      <td>0.999918</td>\n",
              "    </tr>\n",
              "    <tr>\n",
              "      <th>34</th>\n",
              "      <td>mi a nyitvatartás szegeden?</td>\n",
              "      <td>location_open</td>\n",
              "      <td>location_open</td>\n",
              "      <td>0.999001</td>\n",
              "    </tr>\n",
              "  </tbody>\n",
              "</table>\n",
              "</div>"
            ],
            "text/plain": [
              "                                                 text  ... confidence\n",
              "0                                            üdvözlöm  ...   0.505515\n",
              "1                                                hali  ...   0.323020\n",
              "2                                  jó reggelt kívánok  ...   0.938327\n",
              "3                                                 hej  ...   0.733292\n",
              "4                      köszönöm a segítséget, viszlát  ...   0.998397\n",
              "5                                    viszont hallásra  ...   0.609324\n",
              "6                                  további szép napot  ...   0.980338\n",
              "7                          kössz, ennyit akartam csak  ...   0.419189\n",
              "8                          mennyi a számlaegyenlegem?  ...   0.958290\n",
              "9       megtudhatom hogy hány forint van a számlámon?  ...   0.999557\n",
              "10        azt szeretném tudni, hogy mennyi pénzem van  ...   0.989483\n",
              "11                       mennyi pénz van a kártyámon?  ...   0.995371\n",
              "12                      banki kölcsönre van szükségem  ...   0.795847\n",
              "13                          lakáscélú hitel érdekelne  ...   0.840898\n",
              "14     milyen törlesztőrészlettel tudnak hitelt adni?  ...   0.502815\n",
              "15             kölcsönt szeretnék felvenni egy autóra  ...   0.946580\n",
              "16                      fagyasszák be a kártyám kérem  ...   0.985014\n",
              "17         a bankkártyám ellopták, mit tudnánk tenni?  ...   0.557256\n",
              "18                                 zároljuk a kártyám  ...   0.974980\n",
              "19         zárolni kéne a kártyám, szerintem ellopták  ...   0.961940\n",
              "20                           mutass egy közeli atm-et  ...   0.999754\n",
              "21  egy bank automatát keresek ahol pénzt vehetek fel  ...   0.479028\n",
              "22                              bankautomatát keresek  ...   0.999440\n",
              "23                                  hol vannak atmek?  ...   0.850518\n",
              "24                           mutass egy közeli bankot  ...   0.991957\n",
              "25                      hol vannak fiókjai a banknak?  ...   0.996900\n",
              "26                 hol találom a legközelebbi fiókot?  ...   0.983033\n",
              "27                                 bankfiókot keresek  ...   0.997655\n",
              "28      milyen idősávban tart nyitva a bank szegeden?  ...   0.999870\n",
              "29               a makói fiók nyitvarartása érdekelne  ...   0.996972\n",
              "30             most zárva taart épp a szatymazi fiók?  ...   0.999112\n",
              "31                            a makói nyitva van épp?  ...   0.999833\n",
              "32                                nyitva vannak most?  ...   0.994968\n",
              "33                    a szatymazi fiók nyitvatartása?  ...   0.999918\n",
              "34                        mi a nyitvatartás szegeden?  ...   0.999001\n",
              "\n",
              "[35 rows x 4 columns]"
            ]
          },
          "metadata": {
            "tags": []
          },
          "execution_count": 23
        }
      ]
    },
    {
      "cell_type": "markdown",
      "metadata": {
        "id": "RFldB7rgUhU2"
      },
      "source": [
        "Irassuk ki az intent szintű hibametrikákat. (Elég kevés az adat, de azért talán valami látszik...)"
      ]
    },
    {
      "cell_type": "code",
      "metadata": {
        "id": "jdm1uoYASUsN",
        "colab": {
          "base_uri": "https://localhost:8080/"
        },
        "outputId": "b0e9cbfd-8435-4f9e-971b-c2cf81cde2de"
      },
      "source": [
        "print(evaluation_output['intent_evaluation']['report'])"
      ],
      "execution_count": 24,
      "outputs": [
        {
          "output_type": "stream",
          "text": [
            "               precision    recall  f1-score   support\n",
            "\n",
            "      closure       1.00      0.25      0.40         4\n",
            "location_open       1.00      1.00      1.00         7\n",
            " atm_location       1.00      0.50      0.67         4\n",
            "bank_location       0.57      1.00      0.73         4\n",
            "  freeze_card       0.67      1.00      0.80         4\n",
            "       credit       1.00      1.00      1.00         4\n",
            "     greeting       0.75      0.75      0.75         4\n",
            "      balance       1.00      1.00      1.00         4\n",
            "\n",
            "     accuracy                           0.83        35\n",
            "    macro avg       0.87      0.81      0.79        35\n",
            " weighted avg       0.88      0.83      0.81        35\n",
            "\n"
          ],
          "name": "stdout"
        }
      ]
    },
    {
      "cell_type": "markdown",
      "metadata": {
        "id": "XdfSKajOU0QV"
      },
      "source": [
        "...egy szép tévesztési mátrixon még inkább!\n",
        "<br>\n",
        "Látszik, hogy a modellnek vannak problémái a köszönés-búcsúzás illetve az ATM keresés-bankfiók keresés párokkal, de a többi esetben szépen szerepel a tesztadaton."
      ]
    },
    {
      "cell_type": "code",
      "metadata": {
        "id": "v5gHSl8N571D",
        "colab": {
          "base_uri": "https://localhost:8080/"
        },
        "outputId": "16caecde-947e-4a01-b61b-5678d13f8f3a"
      },
      "source": [
        "from sklearn.metrics import confusion_matrix\n",
        "confusion_matrix(eval_df.intent, eval_df.predicted, labels=list(eval_df.intent.unique()))"
      ],
      "execution_count": 25,
      "outputs": [
        {
          "output_type": "execute_result",
          "data": {
            "text/plain": [
              "array([[3, 0, 0, 0, 1, 0, 0, 0],\n",
              "       [1, 1, 0, 0, 1, 0, 1, 0],\n",
              "       [0, 0, 4, 0, 0, 0, 0, 0],\n",
              "       [0, 0, 0, 4, 0, 0, 0, 0],\n",
              "       [0, 0, 0, 0, 4, 0, 0, 0],\n",
              "       [0, 0, 0, 0, 0, 2, 2, 0],\n",
              "       [0, 0, 0, 0, 0, 0, 4, 0],\n",
              "       [0, 0, 0, 0, 0, 0, 0, 7]])"
            ]
          },
          "metadata": {
            "tags": []
          },
          "execution_count": 25
        }
      ]
    },
    {
      "cell_type": "code",
      "metadata": {
        "id": "WmmER8-QShQA",
        "colab": {
          "base_uri": "https://localhost:8080/",
          "height": 880
        },
        "outputId": "40a3003d-270b-4048-d41a-d3955a44b50d"
      },
      "source": [
        "import numpy as np\n",
        "import matplotlib.pyplot as plt\n",
        "from sklearn.metrics import confusion_matrix\n",
        "\n",
        "# Copy-paste matplotlib tévesztési mátrix kód\n",
        "def plot_confusion_matrix(cm, classes,\n",
        "                          normalize=False,\n",
        "                          title='Confusion matrix',\n",
        "                          cmap=plt.cm.Blues):\n",
        "    \"\"\"\n",
        "    This function prints and plots the confusion matrix.\n",
        "    Normalization can be applied by setting `normalize=True`.\n",
        "    \"\"\"\n",
        "    import itertools\n",
        "    if normalize:\n",
        "        cm = cm.astype('float') / cm.sum(axis=1)[:, np.newaxis]\n",
        "        print(\"Normalized confusion matrix\")\n",
        "    else:\n",
        "        print('Confusion matrix, without normalization')\n",
        "\n",
        "    print(cm)\n",
        "\n",
        "    plt.figure(figsize=(10, 10))\n",
        "    plt.imshow(cm, interpolation='nearest', cmap=cmap)\n",
        "    plt.title(title)\n",
        "    plt.colorbar()\n",
        "    tick_marks = np.arange(len(classes))\n",
        "    plt.xticks(tick_marks, classes, rotation=45)\n",
        "    plt.yticks(tick_marks, classes)\n",
        "\n",
        "    fmt = '.2f' if normalize else 'd'\n",
        "    thresh = cm.max() / 2.\n",
        "    for i, j in itertools.product(range(cm.shape[0]), range(cm.shape[1])):\n",
        "        plt.text(j, i, format(cm[i, j], fmt),\n",
        "                 horizontalalignment=\"center\",\n",
        "                 color=\"white\" if cm[i, j] > thresh else \"black\")\n",
        "\n",
        "    plt.ylabel('True label')\n",
        "    plt.xlabel('Predicted label')\n",
        "    plt.tight_layout()\n",
        "\n",
        "y_true = eval_df.intent.tolist()\n",
        "y_pred = eval_df.predicted.tolist()\n",
        "\n",
        "cnf_matrix = confusion_matrix(y_true, y_pred, labels=list(eval_df.intent.unique()))\n",
        "np.set_printoptions(precision=2)\n",
        "\n",
        "# Plot non-normalized confusion matrix\n",
        "plt.figure()\n",
        "plot_confusion_matrix(cnf_matrix, classes=list(eval_df.intent.unique()),\n",
        "                      title='Confusion matrix, without normalization')"
      ],
      "execution_count": 27,
      "outputs": [
        {
          "output_type": "stream",
          "text": [
            "Confusion matrix, without normalization\n",
            "[[3 0 0 0 1 0 0 0]\n",
            " [1 1 0 0 1 0 1 0]\n",
            " [0 0 4 0 0 0 0 0]\n",
            " [0 0 0 4 0 0 0 0]\n",
            " [0 0 0 0 4 0 0 0]\n",
            " [0 0 0 0 0 2 2 0]\n",
            " [0 0 0 0 0 0 4 0]\n",
            " [0 0 0 0 0 0 0 7]]\n"
          ],
          "name": "stdout"
        },
        {
          "output_type": "display_data",
          "data": {
            "text/plain": [
              "<Figure size 432x288 with 0 Axes>"
            ]
          },
          "metadata": {
            "tags": []
          }
        },
        {
          "output_type": "display_data",
          "data": {
            "image/png": "[encoded data removed]",
            "text/plain": [
              "<Figure size 720x720 with 2 Axes>"
            ]
          },
          "metadata": {
            "tags": [],
            "needs_background": "light"
          }
        }
      ]
    },
    {
      "cell_type": "markdown",
      "metadata": {
        "id": "i7ixbZ3HVbaq"
      },
      "source": [
        "Az entitás kinyerés kiértékelése nem tartalmaz túl sok infót, mert nem különböztettük meg a bankfiókokat külön entitásként, illetve nem adtunk meg egyéb entitásokat.\n"
      ]
    },
    {
      "cell_type": "code",
      "metadata": {
        "id": "oUCCAq4e-316",
        "colab": {
          "base_uri": "https://localhost:8080/"
        },
        "outputId": "712dcea7-e938-44dd-ed4e-524cfa30ef5b"
      },
      "source": [
        "print(evaluation_output['entity_evaluation']['DIETClassifier']['report'])"
      ],
      "execution_count": 28,
      "outputs": [
        {
          "output_type": "stream",
          "text": [
            "               precision    recall  f1-score   support\n",
            "\n",
            "bank_location       0.86      1.00      0.92         6\n",
            "\n",
            "    micro avg       0.86      1.00      0.92         6\n",
            "    macro avg       0.86      1.00      0.92         6\n",
            " weighted avg       0.86      1.00      0.92         6\n",
            "\n"
          ],
          "name": "stdout"
        }
      ]
    },
    {
      "cell_type": "markdown",
      "metadata": {
        "id": "laT7bGyHsNS_"
      },
      "source": [
        "## Beszélgetés a chatbottal\n",
        "\n",
        "Ez egy kicsit komplikált notebookban, a példánál használt `chat` függvény nem működik, ha custom actiont is futtatunk...\n",
        "\n",
        "Lépések:\n",
        "\n",
        "\n",
        "1. Az action server hajtja végre a custom action-eket. Lehetne egy külön szereveren is (pl céges tűzfal mögött védve), de mi most indítsuk el a `nohup`-pal itt (`rasa run actions`). Így ez a háttérben fog futni és közben a chatbot process tudja hívni...\n",
        "2. adjuk meg az endpoints.yml-ben, hogy hol fut az action szerver\n",
        "3. indítsuk el a beszélgetést (`rasa shell`), sajnos az általunk gépelt input nem mindig látszik így, célszerű bemásolni egy szomszédos cellából. A beszélgetést a `/stop`-pal zárjuk le\n",
        "4. listázzuk ki a futó folyamatokat, keressük meg a `python3 -m rasa run actions` nevű folyamatot\n",
        "5. a `kill`-el állítsuk le az action szervert"
      ]
    },
    {
      "cell_type": "code",
      "metadata": {
        "id": "oM6-xp_q52VP",
        "colab": {
          "base_uri": "https://localhost:8080/"
        },
        "outputId": "f7fa6171-103a-4a01-96d8-e15e394da537"
      },
      "source": [
        "%rm nohup.out"
      ],
      "execution_count": 29,
      "outputs": [
        {
          "output_type": "stream",
          "text": [
            "rm: cannot remove 'nohup.out': No such file or directory\n"
          ],
          "name": "stdout"
        }
      ]
    },
    {
      "cell_type": "markdown",
      "metadata": {
        "id": "sG3X-pJBVpCd"
      },
      "source": [
        "Indítsuk el a szervert a háttérben..."
      ]
    },
    {
      "cell_type": "code",
      "metadata": {
        "id": "L7zgDxZ-vLJb",
        "colab": {
          "base_uri": "https://localhost:8080/"
        },
        "outputId": "54e8e7a3-20af-42ca-80c6-7cebbd2891a3"
      },
      "source": [
        "!nohup python3 -m rasa run actions &"
      ],
      "execution_count": 30,
      "outputs": [
        {
          "output_type": "stream",
          "text": [
            "nohup: appending output to 'nohup.out'\n"
          ],
          "name": "stdout"
        }
      ]
    },
    {
      "cell_type": "markdown",
      "metadata": {
        "id": "-L5sRxKIVtwd"
      },
      "source": [
        "...várjunk pár másodpercet, amig elindul a szerver, majd nézzünk bele a logokba:"
      ]
    },
    {
      "cell_type": "code",
      "metadata": {
        "id": "yUtBc2Z9V1wR",
        "colab": {
          "base_uri": "https://localhost:8080/"
        },
        "outputId": "b269cc08-7ff0-4707-be86-3a89180212ed"
      },
      "source": [
        "!cat nohup.out"
      ],
      "execution_count": 31,
      "outputs": [
        {
          "output_type": "stream",
          "text": [
            "2021-04-25 16:12:48 INFO     rasa_sdk.endpoint  - Starting action endpoint server...\n",
            "2021-04-25 16:12:48 INFO     rasa_sdk.executor  - Registered function for 'action_location_open'.\n",
            "2021-04-25 16:12:48 INFO     rasa_sdk.executor  - Registered function for 'action_get_balance'.\n",
            "2021-04-25 16:12:48 INFO     rasa_sdk.endpoint  - Action endpoint is up and running on http://localhost:5055\n"
          ],
          "name": "stdout"
        }
      ]
    },
    {
      "cell_type": "markdown",
      "metadata": {
        "id": "W_DMZEvQV6bA"
      },
      "source": [
        "Adjuk meg, hogy hol éri el a custom action-öket végrehajtó imént elindított szervert a Rasa:"
      ]
    },
    {
      "cell_type": "code",
      "metadata": {
        "id": "pnn3wXcC7gk1",
        "colab": {
          "base_uri": "https://localhost:8080/"
        },
        "outputId": "b8f178ac-f18c-4eec-e779-1fbf241e5348"
      },
      "source": [
        "%%writefile endpoints.yml\n",
        "\n",
        "action_endpoint:\n",
        "  url: \"http://localhost:5055/webhook\""
      ],
      "execution_count": 32,
      "outputs": [
        {
          "output_type": "stream",
          "text": [
            "Writing endpoints.yml\n"
          ],
          "name": "stdout"
        }
      ]
    },
    {
      "cell_type": "markdown",
      "metadata": {
        "id": "OGRVY3Ch4A5x"
      },
      "source": [
        "Indítsuk el a chatbotot. Várjunk amíg a zöld szöveg megjelenik arról, hogy a bot betöltött. Sajnos ez nem működik túl szépen notebookos terminálban. A beszélgetést a `/stop`-pal állíthatjuk le.\n",
        "\n",
        "*   Mikor van nyitva a szegedi fiók?\n",
        "*   Mi a nyitvatartásuk?\n",
        "*   le szeretném tiltani a kártyám\n",
        "*   mennyi az egyenlegem?\n",
        "*   stb...\n",
        "\n"
      ]
    },
    {
      "cell_type": "code",
      "metadata": {
        "id": "YUPKYi_dT-od",
        "colab": {
          "base_uri": "https://localhost:8080/"
        },
        "outputId": "732853b0-88d8-48d8-e87e-937435484dea"
      },
      "source": [
        "!python3 -m rasa shell"
      ],
      "execution_count": 33,
      "outputs": [
        {
          "output_type": "stream",
          "text": [
            "2021-04-25 16:13:09 \u001b[1;30mINFO    \u001b[0m \u001b[34mroot\u001b[0m  - Generating grammar tables from /usr/lib/python3.7/lib2to3/Grammar.txt\n",
            "2021-04-25 16:13:09 \u001b[1;30mINFO    \u001b[0m \u001b[34mroot\u001b[0m  - Generating grammar tables from /usr/lib/python3.7/lib2to3/PatternGrammar.txt\n",
            "2021-04-25 16:13:10 \u001b[1;30mINFO    \u001b[0m \u001b[34mroot\u001b[0m  - Starting Rasa server on http://localhost:5005\n",
            "tcmalloc: large alloc 1368014848 bytes == 0x5645955fe000 @  0x7f05a380b1e7 0x7f059d9f946e 0x7f059da4de7c 0x7f059da4eaaf 0x7f059daf0470 0x5645700510e4 0x564570050de0 0x5645700c56f5 0x5645700bfb0e 0x56457005277a 0x5645700c186a 0x5645700bfb0e 0x5645700c89fc 0x7f051ef2de28 0x7f051ef37514 0x5645700517f2 0x5645700c4d75 0x7f051ef2b940 0x7f051ef2df3f 0x7f051ef39346 0x56456ff92337 0x7f052040faea 0x564570051050 0x56457014299d 0x5645700c4fe9 0x5645700bfe0d 0x56457005277a 0x5645700c0a45 0x56457005269a 0x5645700c4e50 0x5645700bfe0d\n",
            "2021-04-25 16:13:26 \u001b[1;30mINFO    \u001b[0m \u001b[34mrasa.nlu.components\u001b[0m  - Added 'SpacyNLP' to component cache. Key 'SpacyNLP-hu'.\n",
            "2021-04-25 16:13:26.614813: E tensorflow/stream_executor/cuda/cuda_driver.cc:351] failed call to cuInit: CUDA_ERROR_NO_DEVICE: no CUDA-capable device is detected\n",
            "2021-04-25 16:13:34 \u001b[1;30mINFO    \u001b[0m \u001b[34mrasa.core.policies.ensemble\u001b[0m  - MappingPolicy not included in policy ensemble. Default intents 'restart and back will not trigger actions 'action_restart' and 'action_back'.\n",
            "2021-04-25 16:13:34 \u001b[1;30mINFO    \u001b[0m \u001b[34mroot\u001b[0m  - Rasa server is up and running.\n",
            "\u001b[92mBot loaded. Type a message and press enter (use '/stop' to exit): \u001b[0m\n",
            "\u001b[15C\u001b[?7h\u001b[0m\u001b[?12l\u001b[?25h\u001b[15D\u001b[J\u001b[0m\u001b[?7h\u001b[?2004l\u001b[?1lWARNING: your terminal doesn't support cursor position requests (CPR).\n",
            "\u001b[0m\n",
            "\u001b[J\u001b[?7h\u001b[0m\u001b[?12l\u001b[?25h\u001b[?2004l\u001b[94mA szegedi bankunk 0-24 órában nyitva tart.\u001b[0m\n",
            "\u001b[15C\u001b[?7h\u001b[0m\u001b[?12l\u001b[?25h\u001b[15D\u001b[J\u001b[0m\u001b[?7h\u001b[?2004l\u001b[?1lWARNING: your terminal doesn't support cursor position requests (CPR).\n",
            "\u001b[0m\n",
            "\u001b[J\u001b[?7h\u001b[0m\u001b[?12l\u001b[?25h\u001b[?2004l2021-04-25 16:13:55 \u001b[1;30mINFO    \u001b[0m \u001b[34mroot\u001b[0m  - Killing Sanic server now.\n"
          ],
          "name": "stdout"
        }
      ]
    },
    {
      "cell_type": "markdown",
      "metadata": {
        "id": "DOcyeyOyXRnl"
      },
      "source": [
        "Állítsuk le az action szervert is. Mivel a háttérben fut, meg kell keresnünk hogy hol... Keressük a `python3 -m rasa run actions` commandot."
      ]
    },
    {
      "cell_type": "code",
      "metadata": {
        "id": "LIAqVD5luf3V",
        "colab": {
          "base_uri": "https://localhost:8080/"
        },
        "outputId": "112a6294-cf68-4431-c550-96fabf4f5f5f"
      },
      "source": [
        "%%sh\n",
        "ps -ef"
      ],
      "execution_count": 34,
      "outputs": [
        {
          "output_type": "stream",
          "text": [
            "UID          PID    PPID  C STIME TTY          TIME CMD\n",
            "root           1       0  1 15:59 ?        00:00:10 /tools/node/bin/node /datalab/web/app.js\n",
            "root          15       0  0 15:59 ?        00:00:00 tail -n +0 -F /root/.config/Google/DriveFS/Logs/dpb.txt /root/.config/Google/DriveFS/Logs/drive_fs.txt\n",
            "root          47       1  2 15:59 ?        00:00:25 /usr/bin/python2 /usr/local/bin/jupyter-notebook --ip=\"172.28.0.2\" --port=9000 --FileContentsManager.root_dir=\"/\" --LargeFileManager.delete_to_trash=False --MappingKernelManager.root_dir=\"/content\"\n",
            "root          48       1  0 15:59 ?        00:00:01 /usr/local/bin/dap_multiplexer --domain_socket_path=/tmp/debugger_k7v1pz2r4\n",
            "root          59      47 34 15:59 ?        00:04:54 /usr/bin/python3 -m ipykernel_launcher -f /root/.local/share/jupyter/runtime/kernel-fe17e8f7-f4e2-4477-ba2f-04ecb630a48a.json\n",
            "root          79       1  0 15:59 ?        00:00:03 /usr/bin/python3 /usr/local/lib/python3.7/dist-packages/debugpy/adapter --for-server 46169 --host 127.0.0.1 --port 23119 --server-access-token f03da93d9bde15f349c64b159781388b9c42bf68236070157847c0faaa85c6a0\n",
            "root        2453       1  3 16:12 ?        00:00:02 python3 -m rasa run actions\n",
            "root        3569      59  0 16:14 ?        00:00:00 sh\n",
            "root        3570    3569  0 16:14 ?        00:00:00 ps -ef\n"
          ],
          "name": "stdout"
        }
      ]
    },
    {
      "cell_type": "markdown",
      "metadata": {
        "id": "uwsbnSOeXfzi"
      },
      "source": [
        "...másoljuk ki a hozzá tartozó process id-t (PID) és lőjjük le."
      ]
    },
    {
      "cell_type": "code",
      "metadata": {
        "id": "lkJMDHlpARiG"
      },
      "source": [
        "%%sh\n",
        "kill 2453"
      ],
      "execution_count": 35,
      "outputs": []
    },
    {
      "cell_type": "code",
      "metadata": {
        "id": "UwdUFROhz0M-"
      },
      "source": [
        ""
      ],
      "execution_count": null,
      "outputs": []
    }
  ]
}